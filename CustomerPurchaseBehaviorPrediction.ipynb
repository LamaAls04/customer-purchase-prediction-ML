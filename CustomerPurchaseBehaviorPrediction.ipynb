{
  "cells": [
    {
      "cell_type": "markdown",
      "metadata": {
        "id": "view-in-github",
        "colab_type": "text"
      },
      "source": [
        "<a href=\"https://colab.research.google.com/github/LamaAls04/customer-purchase-prediction-ML/blob/main/CustomerPurchaseBehaviorPrediction.ipynb\" target=\"_parent\"><img src=\"https://colab.research.google.com/assets/colab-badge.svg\" alt=\"Open In Colab\"/></a>"
      ]
    },
    {
      "cell_type": "markdown",
      "source": [
        "# Machine Learning project\n"
      ],
      "metadata": {
        "id": "6xQLUwYcH7Pv"
      },
      "id": "6xQLUwYcH7Pv"
    },
    {
      "cell_type": "markdown",
      "source": [
        "# Predicting Customer Purchase Behavior"
      ],
      "metadata": {
        "id": "bYS3h2f1SUBT"
      },
      "id": "bYS3h2f1SUBT"
    },
    {
      "cell_type": "markdown",
      "id": "d76cbfac-5644-47f3-85ee-713c50cf22ae",
      "metadata": {
        "id": "d76cbfac-5644-47f3-85ee-713c50cf22ae"
      },
      "source": [
        "### Dataset Description:\n",
        "Customer Purchase Behavior Dataset is sourced from Kaggle, containing 1500 rows and 9 columns. The dataset includes demographic information, purchasing habits, and other relevant features, aimed at predicting customer purchase behavior.\n",
        "\n",
        "### Dataset Features:\n",
        "- Age: Customer's age\n",
        "- Gender: Customer's gender (0: Male, 1: Female)\n",
        "- Annual Income: Annual income of the customer in dollars\n",
        "- Number of Purchases: Total number of purchases made by the customer\n",
        "- Product Category: Category of the purchased product (0: Electronics, 1: Clothing, 2: Home Goods, 3: Beauty, 4: Sports)\n",
        "- Time Spent on Website: Time spent by the customer on the website in minutes\n",
        "- Loyalty Program: Whether the customer is a member of the loyalty program (0: No, 1: Yes)\n",
        "- Discounts Availed: Number of discounts availed by the customer (range: 0-5)\n",
        "- PurchaseStatus (Target Variable): Likelihood of the customer making a purchase (0: No, 1: Yes)"
      ]
    },
    {
      "cell_type": "markdown",
      "id": "35ed96d6-4c1a-4d72-99d7-cd35dc6a0064",
      "metadata": {
        "id": "35ed96d6-4c1a-4d72-99d7-cd35dc6a0064"
      },
      "source": [
        "# EDA"
      ]
    },
    {
      "cell_type": "markdown",
      "source": [
        "### Load Dataset"
      ],
      "metadata": {
        "id": "3vS9MGbEKS-N"
      },
      "id": "3vS9MGbEKS-N"
    },
    {
      "cell_type": "code",
      "execution_count": null,
      "id": "931344ba-698e-40db-b3d8-8984fead75ce",
      "metadata": {
        "id": "931344ba-698e-40db-b3d8-8984fead75ce"
      },
      "outputs": [],
      "source": [
        "# Import libraries\n",
        "import pandas as pd\n",
        "import numpy as np\n",
        "from sklearn.model_selection import train_test_split, GridSearchCV\n",
        "from sklearn.preprocessing import MinMaxScaler\n",
        "from sklearn.linear_model import LogisticRegression\n",
        "from sklearn.ensemble import RandomForestClassifier\n",
        "from sklearn.svm import SVC\n",
        "from xgboost import XGBClassifier\n",
        "from sklearn.metrics import accuracy_score, precision_score, recall_score, f1_score, confusion_matrix, classification_report\n",
        "import seaborn as sns\n",
        "import matplotlib.pyplot as plt"
      ]
    },
    {
      "cell_type": "code",
      "source": [
        "from google.colab import files\n",
        "uploaded = files.upload()"
      ],
      "metadata": {
        "colab": {
          "base_uri": "https://localhost:8080/",
          "height": 73
        },
        "id": "ODIn-kw2--OI",
        "outputId": "8d106803-893c-4569-c063-92f191b33179"
      },
      "id": "ODIn-kw2--OI",
      "execution_count": null,
      "outputs": [
        {
          "output_type": "display_data",
          "data": {
            "text/plain": [
              "<IPython.core.display.HTML object>"
            ],
            "text/html": [
              "\n",
              "     <input type=\"file\" id=\"files-6ac0ba69-8bdc-4772-8e0f-a27dfe63f27d\" name=\"files[]\" multiple disabled\n",
              "        style=\"border:none\" />\n",
              "     <output id=\"result-6ac0ba69-8bdc-4772-8e0f-a27dfe63f27d\">\n",
              "      Upload widget is only available when the cell has been executed in the\n",
              "      current browser session. Please rerun this cell to enable.\n",
              "      </output>\n",
              "      <script>// Copyright 2017 Google LLC\n",
              "//\n",
              "// Licensed under the Apache License, Version 2.0 (the \"License\");\n",
              "// you may not use this file except in compliance with the License.\n",
              "// You may obtain a copy of the License at\n",
              "//\n",
              "//      http://www.apache.org/licenses/LICENSE-2.0\n",
              "//\n",
              "// Unless required by applicable law or agreed to in writing, software\n",
              "// distributed under the License is distributed on an \"AS IS\" BASIS,\n",
              "// WITHOUT WARRANTIES OR CONDITIONS OF ANY KIND, either express or implied.\n",
              "// See the License for the specific language governing permissions and\n",
              "// limitations under the License.\n",
              "\n",
              "/**\n",
              " * @fileoverview Helpers for google.colab Python module.\n",
              " */\n",
              "(function(scope) {\n",
              "function span(text, styleAttributes = {}) {\n",
              "  const element = document.createElement('span');\n",
              "  element.textContent = text;\n",
              "  for (const key of Object.keys(styleAttributes)) {\n",
              "    element.style[key] = styleAttributes[key];\n",
              "  }\n",
              "  return element;\n",
              "}\n",
              "\n",
              "// Max number of bytes which will be uploaded at a time.\n",
              "const MAX_PAYLOAD_SIZE = 100 * 1024;\n",
              "\n",
              "function _uploadFiles(inputId, outputId) {\n",
              "  const steps = uploadFilesStep(inputId, outputId);\n",
              "  const outputElement = document.getElementById(outputId);\n",
              "  // Cache steps on the outputElement to make it available for the next call\n",
              "  // to uploadFilesContinue from Python.\n",
              "  outputElement.steps = steps;\n",
              "\n",
              "  return _uploadFilesContinue(outputId);\n",
              "}\n",
              "\n",
              "// This is roughly an async generator (not supported in the browser yet),\n",
              "// where there are multiple asynchronous steps and the Python side is going\n",
              "// to poll for completion of each step.\n",
              "// This uses a Promise to block the python side on completion of each step,\n",
              "// then passes the result of the previous step as the input to the next step.\n",
              "function _uploadFilesContinue(outputId) {\n",
              "  const outputElement = document.getElementById(outputId);\n",
              "  const steps = outputElement.steps;\n",
              "\n",
              "  const next = steps.next(outputElement.lastPromiseValue);\n",
              "  return Promise.resolve(next.value.promise).then((value) => {\n",
              "    // Cache the last promise value to make it available to the next\n",
              "    // step of the generator.\n",
              "    outputElement.lastPromiseValue = value;\n",
              "    return next.value.response;\n",
              "  });\n",
              "}\n",
              "\n",
              "/**\n",
              " * Generator function which is called between each async step of the upload\n",
              " * process.\n",
              " * @param {string} inputId Element ID of the input file picker element.\n",
              " * @param {string} outputId Element ID of the output display.\n",
              " * @return {!Iterable<!Object>} Iterable of next steps.\n",
              " */\n",
              "function* uploadFilesStep(inputId, outputId) {\n",
              "  const inputElement = document.getElementById(inputId);\n",
              "  inputElement.disabled = false;\n",
              "\n",
              "  const outputElement = document.getElementById(outputId);\n",
              "  outputElement.innerHTML = '';\n",
              "\n",
              "  const pickedPromise = new Promise((resolve) => {\n",
              "    inputElement.addEventListener('change', (e) => {\n",
              "      resolve(e.target.files);\n",
              "    });\n",
              "  });\n",
              "\n",
              "  const cancel = document.createElement('button');\n",
              "  inputElement.parentElement.appendChild(cancel);\n",
              "  cancel.textContent = 'Cancel upload';\n",
              "  const cancelPromise = new Promise((resolve) => {\n",
              "    cancel.onclick = () => {\n",
              "      resolve(null);\n",
              "    };\n",
              "  });\n",
              "\n",
              "  // Wait for the user to pick the files.\n",
              "  const files = yield {\n",
              "    promise: Promise.race([pickedPromise, cancelPromise]),\n",
              "    response: {\n",
              "      action: 'starting',\n",
              "    }\n",
              "  };\n",
              "\n",
              "  cancel.remove();\n",
              "\n",
              "  // Disable the input element since further picks are not allowed.\n",
              "  inputElement.disabled = true;\n",
              "\n",
              "  if (!files) {\n",
              "    return {\n",
              "      response: {\n",
              "        action: 'complete',\n",
              "      }\n",
              "    };\n",
              "  }\n",
              "\n",
              "  for (const file of files) {\n",
              "    const li = document.createElement('li');\n",
              "    li.append(span(file.name, {fontWeight: 'bold'}));\n",
              "    li.append(span(\n",
              "        `(${file.type || 'n/a'}) - ${file.size} bytes, ` +\n",
              "        `last modified: ${\n",
              "            file.lastModifiedDate ? file.lastModifiedDate.toLocaleDateString() :\n",
              "                                    'n/a'} - `));\n",
              "    const percent = span('0% done');\n",
              "    li.appendChild(percent);\n",
              "\n",
              "    outputElement.appendChild(li);\n",
              "\n",
              "    const fileDataPromise = new Promise((resolve) => {\n",
              "      const reader = new FileReader();\n",
              "      reader.onload = (e) => {\n",
              "        resolve(e.target.result);\n",
              "      };\n",
              "      reader.readAsArrayBuffer(file);\n",
              "    });\n",
              "    // Wait for the data to be ready.\n",
              "    let fileData = yield {\n",
              "      promise: fileDataPromise,\n",
              "      response: {\n",
              "        action: 'continue',\n",
              "      }\n",
              "    };\n",
              "\n",
              "    // Use a chunked sending to avoid message size limits. See b/62115660.\n",
              "    let position = 0;\n",
              "    do {\n",
              "      const length = Math.min(fileData.byteLength - position, MAX_PAYLOAD_SIZE);\n",
              "      const chunk = new Uint8Array(fileData, position, length);\n",
              "      position += length;\n",
              "\n",
              "      const base64 = btoa(String.fromCharCode.apply(null, chunk));\n",
              "      yield {\n",
              "        response: {\n",
              "          action: 'append',\n",
              "          file: file.name,\n",
              "          data: base64,\n",
              "        },\n",
              "      };\n",
              "\n",
              "      let percentDone = fileData.byteLength === 0 ?\n",
              "          100 :\n",
              "          Math.round((position / fileData.byteLength) * 100);\n",
              "      percent.textContent = `${percentDone}% done`;\n",
              "\n",
              "    } while (position < fileData.byteLength);\n",
              "  }\n",
              "\n",
              "  // All done.\n",
              "  yield {\n",
              "    response: {\n",
              "      action: 'complete',\n",
              "    }\n",
              "  };\n",
              "}\n",
              "\n",
              "scope.google = scope.google || {};\n",
              "scope.google.colab = scope.google.colab || {};\n",
              "scope.google.colab._files = {\n",
              "  _uploadFiles,\n",
              "  _uploadFilesContinue,\n",
              "};\n",
              "})(self);\n",
              "</script> "
            ]
          },
          "metadata": {}
        },
        {
          "output_type": "stream",
          "name": "stdout",
          "text": [
            "Saving customer_purchase_data (3).csv to customer_purchase_data (3).csv\n"
          ]
        }
      ]
    },
    {
      "cell_type": "code",
      "execution_count": null,
      "id": "e9a822cd-7a6c-486c-b108-cefc86e67791",
      "metadata": {
        "id": "e9a822cd-7a6c-486c-b108-cefc86e67791"
      },
      "outputs": [],
      "source": [
        "#Load Dataset\n",
        "df = pd.read_csv(\"customer_purchase_data (3).csv\")"
      ]
    },
    {
      "cell_type": "markdown",
      "id": "d61d1b58-2e10-42e7-bfd0-6b358d8298ec",
      "metadata": {
        "id": "d61d1b58-2e10-42e7-bfd0-6b358d8298ec"
      },
      "source": [
        "### Overview of the data"
      ]
    },
    {
      "cell_type": "code",
      "execution_count": null,
      "id": "52405b14-164b-41c1-a12c-cac89a70ed17",
      "metadata": {
        "colab": {
          "base_uri": "https://localhost:8080/",
          "height": 363
        },
        "id": "52405b14-164b-41c1-a12c-cac89a70ed17",
        "outputId": "f2f7dbb1-41b4-4d88-d01c-288678897069"
      },
      "outputs": [
        {
          "output_type": "execute_result",
          "data": {
            "text/plain": [
              "   Age  Gender   AnnualIncome  NumberOfPurchases  ProductCategory  \\\n",
              "0   40       1   66120.267939                  8                0   \n",
              "1   20       1   23579.773583                  4                2   \n",
              "2   27       1  127821.306432                 11                2   \n",
              "3   24       1  137798.623120                 19                3   \n",
              "4   31       1   99300.964220                 19                1   \n",
              "5   66       1   37758.117475                 14                4   \n",
              "6   39       1  126883.385286                 16                3   \n",
              "7   64       1   39707.359724                 13                2   \n",
              "8   43       0  102797.301269                 20                1   \n",
              "9   20       1   63854.921080                 16                0   \n",
              "\n",
              "   TimeSpentOnWebsite  LoyaltyProgram  DiscountsAvailed  PurchaseStatus  \n",
              "0           30.568601               0                 5               1  \n",
              "1           38.240097               0                 5               0  \n",
              "2           31.633212               1                 0               1  \n",
              "3           46.167059               0                 4               1  \n",
              "4           19.823592               0                 0               1  \n",
              "5           17.827493               0                 2               0  \n",
              "6           42.085384               1                 4               1  \n",
              "7           17.190292               1                 0               0  \n",
              "8            6.023475               0                 3               0  \n",
              "9           38.572466               0                 5               1  "
            ],
            "text/html": [
              "\n",
              "  <div id=\"df-523d7b66-ad90-4cd4-af7e-0eb22f617228\" class=\"colab-df-container\">\n",
              "    <div>\n",
              "<style scoped>\n",
              "    .dataframe tbody tr th:only-of-type {\n",
              "        vertical-align: middle;\n",
              "    }\n",
              "\n",
              "    .dataframe tbody tr th {\n",
              "        vertical-align: top;\n",
              "    }\n",
              "\n",
              "    .dataframe thead th {\n",
              "        text-align: right;\n",
              "    }\n",
              "</style>\n",
              "<table border=\"1\" class=\"dataframe\">\n",
              "  <thead>\n",
              "    <tr style=\"text-align: right;\">\n",
              "      <th></th>\n",
              "      <th>Age</th>\n",
              "      <th>Gender</th>\n",
              "      <th>AnnualIncome</th>\n",
              "      <th>NumberOfPurchases</th>\n",
              "      <th>ProductCategory</th>\n",
              "      <th>TimeSpentOnWebsite</th>\n",
              "      <th>LoyaltyProgram</th>\n",
              "      <th>DiscountsAvailed</th>\n",
              "      <th>PurchaseStatus</th>\n",
              "    </tr>\n",
              "  </thead>\n",
              "  <tbody>\n",
              "    <tr>\n",
              "      <th>0</th>\n",
              "      <td>40</td>\n",
              "      <td>1</td>\n",
              "      <td>66120.267939</td>\n",
              "      <td>8</td>\n",
              "      <td>0</td>\n",
              "      <td>30.568601</td>\n",
              "      <td>0</td>\n",
              "      <td>5</td>\n",
              "      <td>1</td>\n",
              "    </tr>\n",
              "    <tr>\n",
              "      <th>1</th>\n",
              "      <td>20</td>\n",
              "      <td>1</td>\n",
              "      <td>23579.773583</td>\n",
              "      <td>4</td>\n",
              "      <td>2</td>\n",
              "      <td>38.240097</td>\n",
              "      <td>0</td>\n",
              "      <td>5</td>\n",
              "      <td>0</td>\n",
              "    </tr>\n",
              "    <tr>\n",
              "      <th>2</th>\n",
              "      <td>27</td>\n",
              "      <td>1</td>\n",
              "      <td>127821.306432</td>\n",
              "      <td>11</td>\n",
              "      <td>2</td>\n",
              "      <td>31.633212</td>\n",
              "      <td>1</td>\n",
              "      <td>0</td>\n",
              "      <td>1</td>\n",
              "    </tr>\n",
              "    <tr>\n",
              "      <th>3</th>\n",
              "      <td>24</td>\n",
              "      <td>1</td>\n",
              "      <td>137798.623120</td>\n",
              "      <td>19</td>\n",
              "      <td>3</td>\n",
              "      <td>46.167059</td>\n",
              "      <td>0</td>\n",
              "      <td>4</td>\n",
              "      <td>1</td>\n",
              "    </tr>\n",
              "    <tr>\n",
              "      <th>4</th>\n",
              "      <td>31</td>\n",
              "      <td>1</td>\n",
              "      <td>99300.964220</td>\n",
              "      <td>19</td>\n",
              "      <td>1</td>\n",
              "      <td>19.823592</td>\n",
              "      <td>0</td>\n",
              "      <td>0</td>\n",
              "      <td>1</td>\n",
              "    </tr>\n",
              "    <tr>\n",
              "      <th>5</th>\n",
              "      <td>66</td>\n",
              "      <td>1</td>\n",
              "      <td>37758.117475</td>\n",
              "      <td>14</td>\n",
              "      <td>4</td>\n",
              "      <td>17.827493</td>\n",
              "      <td>0</td>\n",
              "      <td>2</td>\n",
              "      <td>0</td>\n",
              "    </tr>\n",
              "    <tr>\n",
              "      <th>6</th>\n",
              "      <td>39</td>\n",
              "      <td>1</td>\n",
              "      <td>126883.385286</td>\n",
              "      <td>16</td>\n",
              "      <td>3</td>\n",
              "      <td>42.085384</td>\n",
              "      <td>1</td>\n",
              "      <td>4</td>\n",
              "      <td>1</td>\n",
              "    </tr>\n",
              "    <tr>\n",
              "      <th>7</th>\n",
              "      <td>64</td>\n",
              "      <td>1</td>\n",
              "      <td>39707.359724</td>\n",
              "      <td>13</td>\n",
              "      <td>2</td>\n",
              "      <td>17.190292</td>\n",
              "      <td>1</td>\n",
              "      <td>0</td>\n",
              "      <td>0</td>\n",
              "    </tr>\n",
              "    <tr>\n",
              "      <th>8</th>\n",
              "      <td>43</td>\n",
              "      <td>0</td>\n",
              "      <td>102797.301269</td>\n",
              "      <td>20</td>\n",
              "      <td>1</td>\n",
              "      <td>6.023475</td>\n",
              "      <td>0</td>\n",
              "      <td>3</td>\n",
              "      <td>0</td>\n",
              "    </tr>\n",
              "    <tr>\n",
              "      <th>9</th>\n",
              "      <td>20</td>\n",
              "      <td>1</td>\n",
              "      <td>63854.921080</td>\n",
              "      <td>16</td>\n",
              "      <td>0</td>\n",
              "      <td>38.572466</td>\n",
              "      <td>0</td>\n",
              "      <td>5</td>\n",
              "      <td>1</td>\n",
              "    </tr>\n",
              "  </tbody>\n",
              "</table>\n",
              "</div>\n",
              "    <div class=\"colab-df-buttons\">\n",
              "\n",
              "  <div class=\"colab-df-container\">\n",
              "    <button class=\"colab-df-convert\" onclick=\"convertToInteractive('df-523d7b66-ad90-4cd4-af7e-0eb22f617228')\"\n",
              "            title=\"Convert this dataframe to an interactive table.\"\n",
              "            style=\"display:none;\">\n",
              "\n",
              "  <svg xmlns=\"http://www.w3.org/2000/svg\" height=\"24px\" viewBox=\"0 -960 960 960\">\n",
              "    <path d=\"M120-120v-720h720v720H120Zm60-500h600v-160H180v160Zm220 220h160v-160H400v160Zm0 220h160v-160H400v160ZM180-400h160v-160H180v160Zm440 0h160v-160H620v160ZM180-180h160v-160H180v160Zm440 0h160v-160H620v160Z\"/>\n",
              "  </svg>\n",
              "    </button>\n",
              "\n",
              "  <style>\n",
              "    .colab-df-container {\n",
              "      display:flex;\n",
              "      gap: 12px;\n",
              "    }\n",
              "\n",
              "    .colab-df-convert {\n",
              "      background-color: #E8F0FE;\n",
              "      border: none;\n",
              "      border-radius: 50%;\n",
              "      cursor: pointer;\n",
              "      display: none;\n",
              "      fill: #1967D2;\n",
              "      height: 32px;\n",
              "      padding: 0 0 0 0;\n",
              "      width: 32px;\n",
              "    }\n",
              "\n",
              "    .colab-df-convert:hover {\n",
              "      background-color: #E2EBFA;\n",
              "      box-shadow: 0px 1px 2px rgba(60, 64, 67, 0.3), 0px 1px 3px 1px rgba(60, 64, 67, 0.15);\n",
              "      fill: #174EA6;\n",
              "    }\n",
              "\n",
              "    .colab-df-buttons div {\n",
              "      margin-bottom: 4px;\n",
              "    }\n",
              "\n",
              "    [theme=dark] .colab-df-convert {\n",
              "      background-color: #3B4455;\n",
              "      fill: #D2E3FC;\n",
              "    }\n",
              "\n",
              "    [theme=dark] .colab-df-convert:hover {\n",
              "      background-color: #434B5C;\n",
              "      box-shadow: 0px 1px 3px 1px rgba(0, 0, 0, 0.15);\n",
              "      filter: drop-shadow(0px 1px 2px rgba(0, 0, 0, 0.3));\n",
              "      fill: #FFFFFF;\n",
              "    }\n",
              "  </style>\n",
              "\n",
              "    <script>\n",
              "      const buttonEl =\n",
              "        document.querySelector('#df-523d7b66-ad90-4cd4-af7e-0eb22f617228 button.colab-df-convert');\n",
              "      buttonEl.style.display =\n",
              "        google.colab.kernel.accessAllowed ? 'block' : 'none';\n",
              "\n",
              "      async function convertToInteractive(key) {\n",
              "        const element = document.querySelector('#df-523d7b66-ad90-4cd4-af7e-0eb22f617228');\n",
              "        const dataTable =\n",
              "          await google.colab.kernel.invokeFunction('convertToInteractive',\n",
              "                                                    [key], {});\n",
              "        if (!dataTable) return;\n",
              "\n",
              "        const docLinkHtml = 'Like what you see? Visit the ' +\n",
              "          '<a target=\"_blank\" href=https://colab.research.google.com/notebooks/data_table.ipynb>data table notebook</a>'\n",
              "          + ' to learn more about interactive tables.';\n",
              "        element.innerHTML = '';\n",
              "        dataTable['output_type'] = 'display_data';\n",
              "        await google.colab.output.renderOutput(dataTable, element);\n",
              "        const docLink = document.createElement('div');\n",
              "        docLink.innerHTML = docLinkHtml;\n",
              "        element.appendChild(docLink);\n",
              "      }\n",
              "    </script>\n",
              "  </div>\n",
              "\n",
              "\n",
              "    <div id=\"df-970008e2-56c4-4c79-af0e-9668dbe3f4c8\">\n",
              "      <button class=\"colab-df-quickchart\" onclick=\"quickchart('df-970008e2-56c4-4c79-af0e-9668dbe3f4c8')\"\n",
              "                title=\"Suggest charts\"\n",
              "                style=\"display:none;\">\n",
              "\n",
              "<svg xmlns=\"http://www.w3.org/2000/svg\" height=\"24px\"viewBox=\"0 0 24 24\"\n",
              "     width=\"24px\">\n",
              "    <g>\n",
              "        <path d=\"M19 3H5c-1.1 0-2 .9-2 2v14c0 1.1.9 2 2 2h14c1.1 0 2-.9 2-2V5c0-1.1-.9-2-2-2zM9 17H7v-7h2v7zm4 0h-2V7h2v10zm4 0h-2v-4h2v4z\"/>\n",
              "    </g>\n",
              "</svg>\n",
              "      </button>\n",
              "\n",
              "<style>\n",
              "  .colab-df-quickchart {\n",
              "      --bg-color: #E8F0FE;\n",
              "      --fill-color: #1967D2;\n",
              "      --hover-bg-color: #E2EBFA;\n",
              "      --hover-fill-color: #174EA6;\n",
              "      --disabled-fill-color: #AAA;\n",
              "      --disabled-bg-color: #DDD;\n",
              "  }\n",
              "\n",
              "  [theme=dark] .colab-df-quickchart {\n",
              "      --bg-color: #3B4455;\n",
              "      --fill-color: #D2E3FC;\n",
              "      --hover-bg-color: #434B5C;\n",
              "      --hover-fill-color: #FFFFFF;\n",
              "      --disabled-bg-color: #3B4455;\n",
              "      --disabled-fill-color: #666;\n",
              "  }\n",
              "\n",
              "  .colab-df-quickchart {\n",
              "    background-color: var(--bg-color);\n",
              "    border: none;\n",
              "    border-radius: 50%;\n",
              "    cursor: pointer;\n",
              "    display: none;\n",
              "    fill: var(--fill-color);\n",
              "    height: 32px;\n",
              "    padding: 0;\n",
              "    width: 32px;\n",
              "  }\n",
              "\n",
              "  .colab-df-quickchart:hover {\n",
              "    background-color: var(--hover-bg-color);\n",
              "    box-shadow: 0 1px 2px rgba(60, 64, 67, 0.3), 0 1px 3px 1px rgba(60, 64, 67, 0.15);\n",
              "    fill: var(--button-hover-fill-color);\n",
              "  }\n",
              "\n",
              "  .colab-df-quickchart-complete:disabled,\n",
              "  .colab-df-quickchart-complete:disabled:hover {\n",
              "    background-color: var(--disabled-bg-color);\n",
              "    fill: var(--disabled-fill-color);\n",
              "    box-shadow: none;\n",
              "  }\n",
              "\n",
              "  .colab-df-spinner {\n",
              "    border: 2px solid var(--fill-color);\n",
              "    border-color: transparent;\n",
              "    border-bottom-color: var(--fill-color);\n",
              "    animation:\n",
              "      spin 1s steps(1) infinite;\n",
              "  }\n",
              "\n",
              "  @keyframes spin {\n",
              "    0% {\n",
              "      border-color: transparent;\n",
              "      border-bottom-color: var(--fill-color);\n",
              "      border-left-color: var(--fill-color);\n",
              "    }\n",
              "    20% {\n",
              "      border-color: transparent;\n",
              "      border-left-color: var(--fill-color);\n",
              "      border-top-color: var(--fill-color);\n",
              "    }\n",
              "    30% {\n",
              "      border-color: transparent;\n",
              "      border-left-color: var(--fill-color);\n",
              "      border-top-color: var(--fill-color);\n",
              "      border-right-color: var(--fill-color);\n",
              "    }\n",
              "    40% {\n",
              "      border-color: transparent;\n",
              "      border-right-color: var(--fill-color);\n",
              "      border-top-color: var(--fill-color);\n",
              "    }\n",
              "    60% {\n",
              "      border-color: transparent;\n",
              "      border-right-color: var(--fill-color);\n",
              "    }\n",
              "    80% {\n",
              "      border-color: transparent;\n",
              "      border-right-color: var(--fill-color);\n",
              "      border-bottom-color: var(--fill-color);\n",
              "    }\n",
              "    90% {\n",
              "      border-color: transparent;\n",
              "      border-bottom-color: var(--fill-color);\n",
              "    }\n",
              "  }\n",
              "</style>\n",
              "\n",
              "      <script>\n",
              "        async function quickchart(key) {\n",
              "          const quickchartButtonEl =\n",
              "            document.querySelector('#' + key + ' button');\n",
              "          quickchartButtonEl.disabled = true;  // To prevent multiple clicks.\n",
              "          quickchartButtonEl.classList.add('colab-df-spinner');\n",
              "          try {\n",
              "            const charts = await google.colab.kernel.invokeFunction(\n",
              "                'suggestCharts', [key], {});\n",
              "          } catch (error) {\n",
              "            console.error('Error during call to suggestCharts:', error);\n",
              "          }\n",
              "          quickchartButtonEl.classList.remove('colab-df-spinner');\n",
              "          quickchartButtonEl.classList.add('colab-df-quickchart-complete');\n",
              "        }\n",
              "        (() => {\n",
              "          let quickchartButtonEl =\n",
              "            document.querySelector('#df-970008e2-56c4-4c79-af0e-9668dbe3f4c8 button');\n",
              "          quickchartButtonEl.style.display =\n",
              "            google.colab.kernel.accessAllowed ? 'block' : 'none';\n",
              "        })();\n",
              "      </script>\n",
              "    </div>\n",
              "\n",
              "    </div>\n",
              "  </div>\n"
            ],
            "application/vnd.google.colaboratory.intrinsic+json": {
              "type": "dataframe",
              "variable_name": "df",
              "summary": "{\n  \"name\": \"df\",\n  \"rows\": 1500,\n  \"fields\": [\n    {\n      \"column\": \"Age\",\n      \"properties\": {\n        \"dtype\": \"number\",\n        \"std\": 15,\n        \"min\": 18,\n        \"max\": 70,\n        \"num_unique_values\": 53,\n        \"samples\": [\n          67,\n          58,\n          21\n        ],\n        \"semantic_type\": \"\",\n        \"description\": \"\"\n      }\n    },\n    {\n      \"column\": \"Gender\",\n      \"properties\": {\n        \"dtype\": \"number\",\n        \"std\": 0,\n        \"min\": 0,\n        \"max\": 1,\n        \"num_unique_values\": 2,\n        \"samples\": [\n          0,\n          1\n        ],\n        \"semantic_type\": \"\",\n        \"description\": \"\"\n      }\n    },\n    {\n      \"column\": \"AnnualIncome\",\n      \"properties\": {\n        \"dtype\": \"number\",\n        \"std\": 37629.49307829103,\n        \"min\": 20001.5125181976,\n        \"max\": 149785.17648108344,\n        \"num_unique_values\": 1388,\n        \"samples\": [\n          52903.200093349136,\n          60536.09730108375\n        ],\n        \"semantic_type\": \"\",\n        \"description\": \"\"\n      }\n    },\n    {\n      \"column\": \"NumberOfPurchases\",\n      \"properties\": {\n        \"dtype\": \"number\",\n        \"std\": 5,\n        \"min\": 0,\n        \"max\": 20,\n        \"num_unique_values\": 21,\n        \"samples\": [\n          8,\n          1\n        ],\n        \"semantic_type\": \"\",\n        \"description\": \"\"\n      }\n    },\n    {\n      \"column\": \"ProductCategory\",\n      \"properties\": {\n        \"dtype\": \"number\",\n        \"std\": 1,\n        \"min\": 0,\n        \"max\": 4,\n        \"num_unique_values\": 5,\n        \"samples\": [\n          2,\n          4\n        ],\n        \"semantic_type\": \"\",\n        \"description\": \"\"\n      }\n    },\n    {\n      \"column\": \"TimeSpentOnWebsite\",\n      \"properties\": {\n        \"dtype\": \"number\",\n        \"std\": 16.98439232440578,\n        \"min\": 1.037023481078914,\n        \"max\": 59.991105424697615,\n        \"num_unique_values\": 1388,\n        \"samples\": [\n          8.81566828705343,\n          55.95726056320416\n        ],\n        \"semantic_type\": \"\",\n        \"description\": \"\"\n      }\n    },\n    {\n      \"column\": \"LoyaltyProgram\",\n      \"properties\": {\n        \"dtype\": \"number\",\n        \"std\": 0,\n        \"min\": 0,\n        \"max\": 1,\n        \"num_unique_values\": 2,\n        \"samples\": [\n          1,\n          0\n        ],\n        \"semantic_type\": \"\",\n        \"description\": \"\"\n      }\n    },\n    {\n      \"column\": \"DiscountsAvailed\",\n      \"properties\": {\n        \"dtype\": \"number\",\n        \"std\": 1,\n        \"min\": 0,\n        \"max\": 5,\n        \"num_unique_values\": 6,\n        \"samples\": [\n          5,\n          0\n        ],\n        \"semantic_type\": \"\",\n        \"description\": \"\"\n      }\n    },\n    {\n      \"column\": \"PurchaseStatus\",\n      \"properties\": {\n        \"dtype\": \"number\",\n        \"std\": 0,\n        \"min\": 0,\n        \"max\": 1,\n        \"num_unique_values\": 2,\n        \"samples\": [\n          0,\n          1\n        ],\n        \"semantic_type\": \"\",\n        \"description\": \"\"\n      }\n    }\n  ]\n}"
            }
          },
          "metadata": {},
          "execution_count": 9
        }
      ],
      "source": [
        "# Preview the first 10 rows\n",
        "df.head(10)"
      ]
    },
    {
      "cell_type": "code",
      "execution_count": null,
      "id": "62c6a818-0dde-4822-b658-3c351056ad30",
      "metadata": {
        "colab": {
          "base_uri": "https://localhost:8080/"
        },
        "id": "62c6a818-0dde-4822-b658-3c351056ad30",
        "outputId": "ebbe1443-0942-47c3-957b-620331e8dc81"
      },
      "outputs": [
        {
          "output_type": "execute_result",
          "data": {
            "text/plain": [
              "(1500, 9)"
            ]
          },
          "metadata": {},
          "execution_count": 10
        }
      ],
      "source": [
        "df.shape\n",
        "#the data has 1500 rows and 9 columns"
      ]
    },
    {
      "cell_type": "code",
      "execution_count": null,
      "id": "a432fb6e-8a81-42ff-bfdf-f8dd1a23ddd9",
      "metadata": {
        "colab": {
          "base_uri": "https://localhost:8080/"
        },
        "id": "a432fb6e-8a81-42ff-bfdf-f8dd1a23ddd9",
        "outputId": "9e6f1c7f-798e-40d0-dee4-89eb4e07da9f"
      },
      "outputs": [
        {
          "output_type": "stream",
          "name": "stdout",
          "text": [
            "<class 'pandas.core.frame.DataFrame'>\n",
            "RangeIndex: 1500 entries, 0 to 1499\n",
            "Data columns (total 9 columns):\n",
            " #   Column              Non-Null Count  Dtype  \n",
            "---  ------              --------------  -----  \n",
            " 0   Age                 1500 non-null   int64  \n",
            " 1   Gender              1500 non-null   int64  \n",
            " 2   AnnualIncome        1500 non-null   float64\n",
            " 3   NumberOfPurchases   1500 non-null   int64  \n",
            " 4   ProductCategory     1500 non-null   int64  \n",
            " 5   TimeSpentOnWebsite  1500 non-null   float64\n",
            " 6   LoyaltyProgram      1500 non-null   int64  \n",
            " 7   DiscountsAvailed    1500 non-null   int64  \n",
            " 8   PurchaseStatus      1500 non-null   int64  \n",
            "dtypes: float64(2), int64(7)\n",
            "memory usage: 105.6 KB\n"
          ]
        }
      ],
      "source": [
        "# Dataset information\n",
        "df.info()"
      ]
    },
    {
      "cell_type": "code",
      "execution_count": null,
      "id": "c19abba0-75f7-444b-8760-347b6ce69483",
      "metadata": {
        "colab": {
          "base_uri": "https://localhost:8080/",
          "height": 178
        },
        "id": "c19abba0-75f7-444b-8760-347b6ce69483",
        "outputId": "efdaa040-a111-4674-bbef-ddb77d9b2793"
      },
      "outputs": [
        {
          "output_type": "execute_result",
          "data": {
            "text/plain": [
              "PurchaseStatus\n",
              "0    852\n",
              "1    648\n",
              "Name: count, dtype: int64"
            ],
            "text/html": [
              "<div>\n",
              "<style scoped>\n",
              "    .dataframe tbody tr th:only-of-type {\n",
              "        vertical-align: middle;\n",
              "    }\n",
              "\n",
              "    .dataframe tbody tr th {\n",
              "        vertical-align: top;\n",
              "    }\n",
              "\n",
              "    .dataframe thead th {\n",
              "        text-align: right;\n",
              "    }\n",
              "</style>\n",
              "<table border=\"1\" class=\"dataframe\">\n",
              "  <thead>\n",
              "    <tr style=\"text-align: right;\">\n",
              "      <th></th>\n",
              "      <th>count</th>\n",
              "    </tr>\n",
              "    <tr>\n",
              "      <th>PurchaseStatus</th>\n",
              "      <th></th>\n",
              "    </tr>\n",
              "  </thead>\n",
              "  <tbody>\n",
              "    <tr>\n",
              "      <th>0</th>\n",
              "      <td>852</td>\n",
              "    </tr>\n",
              "    <tr>\n",
              "      <th>1</th>\n",
              "      <td>648</td>\n",
              "    </tr>\n",
              "  </tbody>\n",
              "</table>\n",
              "</div><br><label><b>dtype:</b> int64</label>"
            ]
          },
          "metadata": {},
          "execution_count": 12
        }
      ],
      "source": [
        " df['PurchaseStatus'].value_counts()"
      ]
    },
    {
      "cell_type": "markdown",
      "source": [
        "\n",
        "\n",
        "*   Class 0: about 53.3%\n",
        "*   Class 1: about 46.7%\n",
        "\n",
        "The data is relatively balanced. The difference between the two classes is small (less than 10%), so we do not need to apply techniques like oversampling or undersampling."
      ],
      "metadata": {
        "id": "DM8BywqxLJjj"
      },
      "id": "DM8BywqxLJjj"
    },
    {
      "cell_type": "code",
      "execution_count": null,
      "id": "4be4af4d-81ed-48b9-996f-530e8a3406ac",
      "metadata": {
        "colab": {
          "base_uri": "https://localhost:8080/",
          "height": 320
        },
        "id": "4be4af4d-81ed-48b9-996f-530e8a3406ac",
        "outputId": "7f256620-774c-447b-9b26-e6fb00c6ab54"
      },
      "outputs": [
        {
          "output_type": "execute_result",
          "data": {
            "text/plain": [
              "               Age       Gender   AnnualIncome  NumberOfPurchases  \\\n",
              "count  1500.000000  1500.000000    1500.000000        1500.000000   \n",
              "mean     44.298667     0.504667   84249.164338          10.420000   \n",
              "std      15.537259     0.500145   37629.493078           5.887391   \n",
              "min      18.000000     0.000000   20001.512518           0.000000   \n",
              "25%      31.000000     0.000000   53028.979155           5.000000   \n",
              "50%      45.000000     1.000000   83699.581476          11.000000   \n",
              "75%      57.000000     1.000000  117167.772858          15.000000   \n",
              "max      70.000000     1.000000  149785.176481          20.000000   \n",
              "\n",
              "       ProductCategory  TimeSpentOnWebsite  LoyaltyProgram  DiscountsAvailed  \\\n",
              "count      1500.000000         1500.000000     1500.000000       1500.000000   \n",
              "mean          2.012667           30.469040        0.326667          2.555333   \n",
              "std           1.428005           16.984392        0.469151          1.705152   \n",
              "min           0.000000            1.037023        0.000000          0.000000   \n",
              "25%           1.000000           16.156700        0.000000          1.000000   \n",
              "50%           2.000000           30.939516        0.000000          3.000000   \n",
              "75%           3.000000           44.369863        1.000000          4.000000   \n",
              "max           4.000000           59.991105        1.000000          5.000000   \n",
              "\n",
              "       PurchaseStatus  \n",
              "count      1500.00000  \n",
              "mean          0.43200  \n",
              "std           0.49552  \n",
              "min           0.00000  \n",
              "25%           0.00000  \n",
              "50%           0.00000  \n",
              "75%           1.00000  \n",
              "max           1.00000  "
            ],
            "text/html": [
              "\n",
              "  <div id=\"df-273cb143-cce3-4611-9818-dc68a973b944\" class=\"colab-df-container\">\n",
              "    <div>\n",
              "<style scoped>\n",
              "    .dataframe tbody tr th:only-of-type {\n",
              "        vertical-align: middle;\n",
              "    }\n",
              "\n",
              "    .dataframe tbody tr th {\n",
              "        vertical-align: top;\n",
              "    }\n",
              "\n",
              "    .dataframe thead th {\n",
              "        text-align: right;\n",
              "    }\n",
              "</style>\n",
              "<table border=\"1\" class=\"dataframe\">\n",
              "  <thead>\n",
              "    <tr style=\"text-align: right;\">\n",
              "      <th></th>\n",
              "      <th>Age</th>\n",
              "      <th>Gender</th>\n",
              "      <th>AnnualIncome</th>\n",
              "      <th>NumberOfPurchases</th>\n",
              "      <th>ProductCategory</th>\n",
              "      <th>TimeSpentOnWebsite</th>\n",
              "      <th>LoyaltyProgram</th>\n",
              "      <th>DiscountsAvailed</th>\n",
              "      <th>PurchaseStatus</th>\n",
              "    </tr>\n",
              "  </thead>\n",
              "  <tbody>\n",
              "    <tr>\n",
              "      <th>count</th>\n",
              "      <td>1500.000000</td>\n",
              "      <td>1500.000000</td>\n",
              "      <td>1500.000000</td>\n",
              "      <td>1500.000000</td>\n",
              "      <td>1500.000000</td>\n",
              "      <td>1500.000000</td>\n",
              "      <td>1500.000000</td>\n",
              "      <td>1500.000000</td>\n",
              "      <td>1500.00000</td>\n",
              "    </tr>\n",
              "    <tr>\n",
              "      <th>mean</th>\n",
              "      <td>44.298667</td>\n",
              "      <td>0.504667</td>\n",
              "      <td>84249.164338</td>\n",
              "      <td>10.420000</td>\n",
              "      <td>2.012667</td>\n",
              "      <td>30.469040</td>\n",
              "      <td>0.326667</td>\n",
              "      <td>2.555333</td>\n",
              "      <td>0.43200</td>\n",
              "    </tr>\n",
              "    <tr>\n",
              "      <th>std</th>\n",
              "      <td>15.537259</td>\n",
              "      <td>0.500145</td>\n",
              "      <td>37629.493078</td>\n",
              "      <td>5.887391</td>\n",
              "      <td>1.428005</td>\n",
              "      <td>16.984392</td>\n",
              "      <td>0.469151</td>\n",
              "      <td>1.705152</td>\n",
              "      <td>0.49552</td>\n",
              "    </tr>\n",
              "    <tr>\n",
              "      <th>min</th>\n",
              "      <td>18.000000</td>\n",
              "      <td>0.000000</td>\n",
              "      <td>20001.512518</td>\n",
              "      <td>0.000000</td>\n",
              "      <td>0.000000</td>\n",
              "      <td>1.037023</td>\n",
              "      <td>0.000000</td>\n",
              "      <td>0.000000</td>\n",
              "      <td>0.00000</td>\n",
              "    </tr>\n",
              "    <tr>\n",
              "      <th>25%</th>\n",
              "      <td>31.000000</td>\n",
              "      <td>0.000000</td>\n",
              "      <td>53028.979155</td>\n",
              "      <td>5.000000</td>\n",
              "      <td>1.000000</td>\n",
              "      <td>16.156700</td>\n",
              "      <td>0.000000</td>\n",
              "      <td>1.000000</td>\n",
              "      <td>0.00000</td>\n",
              "    </tr>\n",
              "    <tr>\n",
              "      <th>50%</th>\n",
              "      <td>45.000000</td>\n",
              "      <td>1.000000</td>\n",
              "      <td>83699.581476</td>\n",
              "      <td>11.000000</td>\n",
              "      <td>2.000000</td>\n",
              "      <td>30.939516</td>\n",
              "      <td>0.000000</td>\n",
              "      <td>3.000000</td>\n",
              "      <td>0.00000</td>\n",
              "    </tr>\n",
              "    <tr>\n",
              "      <th>75%</th>\n",
              "      <td>57.000000</td>\n",
              "      <td>1.000000</td>\n",
              "      <td>117167.772858</td>\n",
              "      <td>15.000000</td>\n",
              "      <td>3.000000</td>\n",
              "      <td>44.369863</td>\n",
              "      <td>1.000000</td>\n",
              "      <td>4.000000</td>\n",
              "      <td>1.00000</td>\n",
              "    </tr>\n",
              "    <tr>\n",
              "      <th>max</th>\n",
              "      <td>70.000000</td>\n",
              "      <td>1.000000</td>\n",
              "      <td>149785.176481</td>\n",
              "      <td>20.000000</td>\n",
              "      <td>4.000000</td>\n",
              "      <td>59.991105</td>\n",
              "      <td>1.000000</td>\n",
              "      <td>5.000000</td>\n",
              "      <td>1.00000</td>\n",
              "    </tr>\n",
              "  </tbody>\n",
              "</table>\n",
              "</div>\n",
              "    <div class=\"colab-df-buttons\">\n",
              "\n",
              "  <div class=\"colab-df-container\">\n",
              "    <button class=\"colab-df-convert\" onclick=\"convertToInteractive('df-273cb143-cce3-4611-9818-dc68a973b944')\"\n",
              "            title=\"Convert this dataframe to an interactive table.\"\n",
              "            style=\"display:none;\">\n",
              "\n",
              "  <svg xmlns=\"http://www.w3.org/2000/svg\" height=\"24px\" viewBox=\"0 -960 960 960\">\n",
              "    <path d=\"M120-120v-720h720v720H120Zm60-500h600v-160H180v160Zm220 220h160v-160H400v160Zm0 220h160v-160H400v160ZM180-400h160v-160H180v160Zm440 0h160v-160H620v160ZM180-180h160v-160H180v160Zm440 0h160v-160H620v160Z\"/>\n",
              "  </svg>\n",
              "    </button>\n",
              "\n",
              "  <style>\n",
              "    .colab-df-container {\n",
              "      display:flex;\n",
              "      gap: 12px;\n",
              "    }\n",
              "\n",
              "    .colab-df-convert {\n",
              "      background-color: #E8F0FE;\n",
              "      border: none;\n",
              "      border-radius: 50%;\n",
              "      cursor: pointer;\n",
              "      display: none;\n",
              "      fill: #1967D2;\n",
              "      height: 32px;\n",
              "      padding: 0 0 0 0;\n",
              "      width: 32px;\n",
              "    }\n",
              "\n",
              "    .colab-df-convert:hover {\n",
              "      background-color: #E2EBFA;\n",
              "      box-shadow: 0px 1px 2px rgba(60, 64, 67, 0.3), 0px 1px 3px 1px rgba(60, 64, 67, 0.15);\n",
              "      fill: #174EA6;\n",
              "    }\n",
              "\n",
              "    .colab-df-buttons div {\n",
              "      margin-bottom: 4px;\n",
              "    }\n",
              "\n",
              "    [theme=dark] .colab-df-convert {\n",
              "      background-color: #3B4455;\n",
              "      fill: #D2E3FC;\n",
              "    }\n",
              "\n",
              "    [theme=dark] .colab-df-convert:hover {\n",
              "      background-color: #434B5C;\n",
              "      box-shadow: 0px 1px 3px 1px rgba(0, 0, 0, 0.15);\n",
              "      filter: drop-shadow(0px 1px 2px rgba(0, 0, 0, 0.3));\n",
              "      fill: #FFFFFF;\n",
              "    }\n",
              "  </style>\n",
              "\n",
              "    <script>\n",
              "      const buttonEl =\n",
              "        document.querySelector('#df-273cb143-cce3-4611-9818-dc68a973b944 button.colab-df-convert');\n",
              "      buttonEl.style.display =\n",
              "        google.colab.kernel.accessAllowed ? 'block' : 'none';\n",
              "\n",
              "      async function convertToInteractive(key) {\n",
              "        const element = document.querySelector('#df-273cb143-cce3-4611-9818-dc68a973b944');\n",
              "        const dataTable =\n",
              "          await google.colab.kernel.invokeFunction('convertToInteractive',\n",
              "                                                    [key], {});\n",
              "        if (!dataTable) return;\n",
              "\n",
              "        const docLinkHtml = 'Like what you see? Visit the ' +\n",
              "          '<a target=\"_blank\" href=https://colab.research.google.com/notebooks/data_table.ipynb>data table notebook</a>'\n",
              "          + ' to learn more about interactive tables.';\n",
              "        element.innerHTML = '';\n",
              "        dataTable['output_type'] = 'display_data';\n",
              "        await google.colab.output.renderOutput(dataTable, element);\n",
              "        const docLink = document.createElement('div');\n",
              "        docLink.innerHTML = docLinkHtml;\n",
              "        element.appendChild(docLink);\n",
              "      }\n",
              "    </script>\n",
              "  </div>\n",
              "\n",
              "\n",
              "    <div id=\"df-e8a43e4d-844a-494e-948a-97396cba20d8\">\n",
              "      <button class=\"colab-df-quickchart\" onclick=\"quickchart('df-e8a43e4d-844a-494e-948a-97396cba20d8')\"\n",
              "                title=\"Suggest charts\"\n",
              "                style=\"display:none;\">\n",
              "\n",
              "<svg xmlns=\"http://www.w3.org/2000/svg\" height=\"24px\"viewBox=\"0 0 24 24\"\n",
              "     width=\"24px\">\n",
              "    <g>\n",
              "        <path d=\"M19 3H5c-1.1 0-2 .9-2 2v14c0 1.1.9 2 2 2h14c1.1 0 2-.9 2-2V5c0-1.1-.9-2-2-2zM9 17H7v-7h2v7zm4 0h-2V7h2v10zm4 0h-2v-4h2v4z\"/>\n",
              "    </g>\n",
              "</svg>\n",
              "      </button>\n",
              "\n",
              "<style>\n",
              "  .colab-df-quickchart {\n",
              "      --bg-color: #E8F0FE;\n",
              "      --fill-color: #1967D2;\n",
              "      --hover-bg-color: #E2EBFA;\n",
              "      --hover-fill-color: #174EA6;\n",
              "      --disabled-fill-color: #AAA;\n",
              "      --disabled-bg-color: #DDD;\n",
              "  }\n",
              "\n",
              "  [theme=dark] .colab-df-quickchart {\n",
              "      --bg-color: #3B4455;\n",
              "      --fill-color: #D2E3FC;\n",
              "      --hover-bg-color: #434B5C;\n",
              "      --hover-fill-color: #FFFFFF;\n",
              "      --disabled-bg-color: #3B4455;\n",
              "      --disabled-fill-color: #666;\n",
              "  }\n",
              "\n",
              "  .colab-df-quickchart {\n",
              "    background-color: var(--bg-color);\n",
              "    border: none;\n",
              "    border-radius: 50%;\n",
              "    cursor: pointer;\n",
              "    display: none;\n",
              "    fill: var(--fill-color);\n",
              "    height: 32px;\n",
              "    padding: 0;\n",
              "    width: 32px;\n",
              "  }\n",
              "\n",
              "  .colab-df-quickchart:hover {\n",
              "    background-color: var(--hover-bg-color);\n",
              "    box-shadow: 0 1px 2px rgba(60, 64, 67, 0.3), 0 1px 3px 1px rgba(60, 64, 67, 0.15);\n",
              "    fill: var(--button-hover-fill-color);\n",
              "  }\n",
              "\n",
              "  .colab-df-quickchart-complete:disabled,\n",
              "  .colab-df-quickchart-complete:disabled:hover {\n",
              "    background-color: var(--disabled-bg-color);\n",
              "    fill: var(--disabled-fill-color);\n",
              "    box-shadow: none;\n",
              "  }\n",
              "\n",
              "  .colab-df-spinner {\n",
              "    border: 2px solid var(--fill-color);\n",
              "    border-color: transparent;\n",
              "    border-bottom-color: var(--fill-color);\n",
              "    animation:\n",
              "      spin 1s steps(1) infinite;\n",
              "  }\n",
              "\n",
              "  @keyframes spin {\n",
              "    0% {\n",
              "      border-color: transparent;\n",
              "      border-bottom-color: var(--fill-color);\n",
              "      border-left-color: var(--fill-color);\n",
              "    }\n",
              "    20% {\n",
              "      border-color: transparent;\n",
              "      border-left-color: var(--fill-color);\n",
              "      border-top-color: var(--fill-color);\n",
              "    }\n",
              "    30% {\n",
              "      border-color: transparent;\n",
              "      border-left-color: var(--fill-color);\n",
              "      border-top-color: var(--fill-color);\n",
              "      border-right-color: var(--fill-color);\n",
              "    }\n",
              "    40% {\n",
              "      border-color: transparent;\n",
              "      border-right-color: var(--fill-color);\n",
              "      border-top-color: var(--fill-color);\n",
              "    }\n",
              "    60% {\n",
              "      border-color: transparent;\n",
              "      border-right-color: var(--fill-color);\n",
              "    }\n",
              "    80% {\n",
              "      border-color: transparent;\n",
              "      border-right-color: var(--fill-color);\n",
              "      border-bottom-color: var(--fill-color);\n",
              "    }\n",
              "    90% {\n",
              "      border-color: transparent;\n",
              "      border-bottom-color: var(--fill-color);\n",
              "    }\n",
              "  }\n",
              "</style>\n",
              "\n",
              "      <script>\n",
              "        async function quickchart(key) {\n",
              "          const quickchartButtonEl =\n",
              "            document.querySelector('#' + key + ' button');\n",
              "          quickchartButtonEl.disabled = true;  // To prevent multiple clicks.\n",
              "          quickchartButtonEl.classList.add('colab-df-spinner');\n",
              "          try {\n",
              "            const charts = await google.colab.kernel.invokeFunction(\n",
              "                'suggestCharts', [key], {});\n",
              "          } catch (error) {\n",
              "            console.error('Error during call to suggestCharts:', error);\n",
              "          }\n",
              "          quickchartButtonEl.classList.remove('colab-df-spinner');\n",
              "          quickchartButtonEl.classList.add('colab-df-quickchart-complete');\n",
              "        }\n",
              "        (() => {\n",
              "          let quickchartButtonEl =\n",
              "            document.querySelector('#df-e8a43e4d-844a-494e-948a-97396cba20d8 button');\n",
              "          quickchartButtonEl.style.display =\n",
              "            google.colab.kernel.accessAllowed ? 'block' : 'none';\n",
              "        })();\n",
              "      </script>\n",
              "    </div>\n",
              "\n",
              "    </div>\n",
              "  </div>\n"
            ],
            "application/vnd.google.colaboratory.intrinsic+json": {
              "type": "dataframe",
              "summary": "{\n  \"name\": \"df\",\n  \"rows\": 8,\n  \"fields\": [\n    {\n      \"column\": \"Age\",\n      \"properties\": {\n        \"dtype\": \"number\",\n        \"std\": 516.4771747430613,\n        \"min\": 15.53725852557485,\n        \"max\": 1500.0,\n        \"num_unique_values\": 8,\n        \"samples\": [\n          44.29866666666667,\n          45.0,\n          1500.0\n        ],\n        \"semantic_type\": \"\",\n        \"description\": \"\"\n      }\n    },\n    {\n      \"column\": \"Gender\",\n      \"properties\": {\n        \"dtype\": \"number\",\n        \"std\": 530.1279758776858,\n        \"min\": 0.0,\n        \"max\": 1500.0,\n        \"num_unique_values\": 5,\n        \"samples\": [\n          0.5046666666666667,\n          1.0,\n          0.5001449645312063\n        ],\n        \"semantic_type\": \"\",\n        \"description\": \"\"\n      }\n    },\n    {\n      \"column\": \"AnnualIncome\",\n      \"properties\": {\n        \"dtype\": \"number\",\n        \"std\": 49983.18203000511,\n        \"min\": 1500.0,\n        \"max\": 149785.17648108344,\n        \"num_unique_values\": 8,\n        \"samples\": [\n          84249.16433824257,\n          83699.58147641507,\n          1500.0\n        ],\n        \"semantic_type\": \"\",\n        \"description\": \"\"\n      }\n    },\n    {\n      \"column\": \"NumberOfPurchases\",\n      \"properties\": {\n        \"dtype\": \"number\",\n        \"std\": 526.9667488141346,\n        \"min\": 0.0,\n        \"max\": 1500.0,\n        \"num_unique_values\": 8,\n        \"samples\": [\n          10.42,\n          11.0,\n          1500.0\n        ],\n        \"semantic_type\": \"\",\n        \"description\": \"\"\n      }\n    },\n    {\n      \"column\": \"ProductCategory\",\n      \"properties\": {\n        \"dtype\": \"number\",\n        \"std\": 529.6526161546207,\n        \"min\": 0.0,\n        \"max\": 1500.0,\n        \"num_unique_values\": 8,\n        \"samples\": [\n          2.0126666666666666,\n          2.0,\n          1500.0\n        ],\n        \"semantic_type\": \"\",\n        \"description\": \"\"\n      }\n    },\n    {\n      \"column\": \"TimeSpentOnWebsite\",\n      \"properties\": {\n        \"dtype\": \"number\",\n        \"std\": 520.5458769296304,\n        \"min\": 1.037023481078914,\n        \"max\": 1500.0,\n        \"num_unique_values\": 8,\n        \"samples\": [\n          30.469040226089582,\n          30.939516356857414,\n          1500.0\n        ],\n        \"semantic_type\": \"\",\n        \"description\": \"\"\n      }\n    },\n    {\n      \"column\": \"LoyaltyProgram\",\n      \"properties\": {\n        \"dtype\": \"number\",\n        \"std\": 530.1890388291644,\n        \"min\": 0.0,\n        \"max\": 1500.0,\n        \"num_unique_values\": 5,\n        \"samples\": [\n          0.32666666666666666,\n          1.0,\n          0.4691506052600096\n        ],\n        \"semantic_type\": \"\",\n        \"description\": \"\"\n      }\n    },\n    {\n      \"column\": \"DiscountsAvailed\",\n      \"properties\": {\n        \"dtype\": \"number\",\n        \"std\": 529.460711443755,\n        \"min\": 0.0,\n        \"max\": 1500.0,\n        \"num_unique_values\": 8,\n        \"samples\": [\n          2.5553333333333335,\n          3.0,\n          1500.0\n        ],\n        \"semantic_type\": \"\",\n        \"description\": \"\"\n      }\n    },\n    {\n      \"column\": \"PurchaseStatus\",\n      \"properties\": {\n        \"dtype\": \"number\",\n        \"std\": 530.1823865439486,\n        \"min\": 0.0,\n        \"max\": 1500.0,\n        \"num_unique_values\": 5,\n        \"samples\": [\n          0.432,\n          1.0,\n          0.495519619317693\n        ],\n        \"semantic_type\": \"\",\n        \"description\": \"\"\n      }\n    }\n  ]\n}"
            }
          },
          "metadata": {},
          "execution_count": 13
        }
      ],
      "source": [
        "df.describe()"
      ]
    },
    {
      "cell_type": "markdown",
      "source": [
        "## Data Visualization"
      ],
      "metadata": {
        "id": "nf8XujbDD1Ph"
      },
      "id": "nf8XujbDD1Ph"
    },
    {
      "cell_type": "markdown",
      "source": [
        "### Pie chart"
      ],
      "metadata": {
        "id": "jhdiiNQcG4Xb"
      },
      "id": "jhdiiNQcG4Xb"
    },
    {
      "cell_type": "code",
      "execution_count": null,
      "id": "69cc7ac0-be56-417e-b428-a7e723186b24",
      "metadata": {
        "colab": {
          "base_uri": "https://localhost:8080/",
          "height": 521
        },
        "id": "69cc7ac0-be56-417e-b428-a7e723186b24",
        "outputId": "521e7524-2cb4-4899-f467-62e92131cbdc"
      },
      "outputs": [
        {
          "output_type": "display_data",
          "data": {
            "text/plain": [
              "<Figure size 600x600 with 1 Axes>"
            ],
            "image/png": "[encoded data removed]"
          },
          "metadata": {}
        }
      ],
      "source": [
        "import matplotlib.pyplot as plt\n",
        "\n",
        "labels = ['Not Purchased', 'Purchased']\n",
        "colors = ['#D32F2F', '#388E3C']\n",
        "\n",
        "counts = df['PurchaseStatus'].value_counts()\n",
        "\n",
        "plt.figure(figsize=(6, 6))\n",
        "plt.pie(counts, labels=labels, autopct='%1.1f%%', startangle=90,  colors=colors)\n",
        "plt.title('Purchase Status Distribution')\n",
        "plt.axis('equal')\n",
        "plt.show()"
      ]
    },
    {
      "cell_type": "markdown",
      "id": "486a9918-7958-4391-9999-f9c10dcb0430",
      "metadata": {
        "id": "486a9918-7958-4391-9999-f9c10dcb0430"
      },
      "source": [
        "The data is relatively balanced."
      ]
    },
    {
      "cell_type": "markdown",
      "source": [
        "### Histogram"
      ],
      "metadata": {
        "id": "JqI8l0QzHN5h"
      },
      "id": "JqI8l0QzHN5h"
    },
    {
      "cell_type": "code",
      "source": [
        "# Plotting the distribution of numeric features\n",
        "numeric_features = ['Age', 'AnnualIncome', 'NumberOfPurchases', 'TimeSpentOnWebsite', 'DiscountsAvailed']\n",
        "df[numeric_features].hist(bins=20, figsize=(10, 9), color='teal')\n",
        "plt.suptitle('Distribution of Numeric Features')\n",
        "plt.show()"
      ],
      "metadata": {
        "colab": {
          "base_uri": "https://localhost:8080/",
          "height": 843
        },
        "id": "GdUZj9ELS3Wi",
        "outputId": "a0797d06-bde5-4ace-9972-0e3527c0df66"
      },
      "id": "GdUZj9ELS3Wi",
      "execution_count": null,
      "outputs": [
        {
          "output_type": "display_data",
          "data": {
            "text/plain": [
              "<Figure size 1000x900 with 6 Axes>"
            ],
            "image/png": "[encoded data removed]"
          },
          "metadata": {}
        }
      ]
    },
    {
      "cell_type": "code",
      "source": [
        "# Plotting the distribution of categorical features\n",
        "categorical_features = ['Gender', 'ProductCategory', 'LoyaltyProgram', 'PurchaseStatus']\n",
        "for feature in categorical_features:\n",
        "    sns.countplot(x=df[feature])\n",
        "    plt.title(f'Distribution of {feature}')\n",
        "    plt.show()"
      ],
      "metadata": {
        "colab": {
          "base_uri": "https://localhost:8080/",
          "height": 1000
        },
        "id": "zAJFkaRZS69L",
        "outputId": "8a2f1251-9e15-4231-d84e-fe56f3319229"
      },
      "id": "zAJFkaRZS69L",
      "execution_count": null,
      "outputs": [
        {
          "output_type": "display_data",
          "data": {
            "text/plain": [
              "<Figure size 640x480 with 1 Axes>"
            ],
            "image/png": "[encoded data removed]"
          },
          "metadata": {}
        },
        {
          "output_type": "display_data",
          "data": {
            "text/plain": [
              "<Figure size 640x480 with 1 Axes>"
            ],
            "image/png": "[encoded data removed]"
          },
          "metadata": {}
        },
        {
          "output_type": "display_data",
          "data": {
            "text/plain": [
              "<Figure size 640x480 with 1 Axes>"
            ],
            "image/png": "[encoded data removed]"
          },
          "metadata": {}
        },
        {
          "output_type": "display_data",
          "data": {
            "text/plain": [
              "<Figure size 640x480 with 1 Axes>"
            ],
            "image/png": "[encoded data removed]"
          },
          "metadata": {}
        }
      ]
    },
    {
      "cell_type": "markdown",
      "source": [
        "### Heatmap"
      ],
      "metadata": {
        "id": "o63Ceef3HqtR"
      },
      "id": "o63Ceef3HqtR"
    },
    {
      "cell_type": "code",
      "execution_count": null,
      "id": "f5262ee4-4436-4ad9-ab19-751c213a19c6",
      "metadata": {
        "colab": {
          "base_uri": "https://localhost:8080/",
          "height": 906
        },
        "id": "f5262ee4-4436-4ad9-ab19-751c213a19c6",
        "outputId": "8918b475-aebf-4b3f-dbfc-b6eda23ec748"
      },
      "outputs": [
        {
          "output_type": "display_data",
          "data": {
            "text/plain": [
              "<Figure size 1000x800 with 2 Axes>"
            ],
            "image/png": "[encoded data removed]"
          },
          "metadata": {}
        },
        {
          "output_type": "stream",
          "name": "stdout",
          "text": [
            "LoyaltyProgram, DiscountsAvailed, and TimeSpentOnWebsite show the strongest positive correlations, indicating that customers who are loyal, use discounts, \n",
            "or spend more time on the website are more likely to make a purchase. In contrast, Age has a moderate negative correlation, suggesting older customers are less likely to purchase. \n",
            "Other features like Gender and ProductCategory show minimal correlation, implying a limited impact on purchasing behavior.\n"
          ]
        }
      ],
      "source": [
        "plt.figure(figsize=(10, 8))\n",
        "sns.heatmap(df.corr(), annot=True, cmap='coolwarm')\n",
        "plt.title('Correlation Heatmap')\n",
        "plt.show()\n",
        "print('LoyaltyProgram, DiscountsAvailed, and TimeSpentOnWebsite show the strongest positive correlations, indicating that customers who are loyal, use discounts, \\nor spend more time on the website are more likely to make a purchase. In contrast, Age has a moderate negative correlation, suggesting older customers are less likely to purchase. \\nOther features like Gender and ProductCategory show minimal correlation, implying a limited impact on purchasing behavior.')\n",
        "#Focus on LoyaltyProgram, DiscountsAvailed, and TimeSpentOnWebsite — they are strong predictors of purchase."
      ]
    },
    {
      "cell_type": "markdown",
      "source": [
        "### Scatter plot"
      ],
      "metadata": {
        "id": "sQTWu4mZP2n1"
      },
      "id": "sQTWu4mZP2n1"
    },
    {
      "cell_type": "code",
      "source": [
        "import seaborn as sns\n",
        "import matplotlib.pyplot as plt\n",
        "\n",
        "# Create a scatter plot with a regression line\n",
        "plt.figure(figsize=(8, 6))\n",
        "sns.regplot(x=\"Age\", y=\"PurchaseStatus\", data=df[[\"Age\", \"PurchaseStatus\"]], line_kws={\"color\": \"red\"}, scatter_kws={\"alpha\": 0.6})\n",
        "plt.xlabel(\"Age \")\n",
        "plt.ylabel(\"PurchaseStatus\")\n",
        "plt.title(\"Scatter Plot with Regression Line: Age vs LoyaltyProgram\")\n",
        "plt.show()\n",
        "print('Age has a moderate negative correlation with Purchase status, suggesting older customers are less likely to purchase.')"
      ],
      "metadata": {
        "colab": {
          "base_uri": "https://localhost:8080/",
          "height": 581
        },
        "id": "r-81AO_6NRRL",
        "outputId": "83264552-3846-4491-cb98-33fc35c157e6"
      },
      "id": "r-81AO_6NRRL",
      "execution_count": null,
      "outputs": [
        {
          "output_type": "display_data",
          "data": {
            "text/plain": [
              "<Figure size 800x600 with 1 Axes>"
            ],
            "image/png": "[encoded data removed]"
          },
          "metadata": {}
        },
        {
          "output_type": "stream",
          "name": "stdout",
          "text": [
            "Age has a moderate negative correlation with Purchase status, suggesting older customers are less likely to purchase.\n"
          ]
        }
      ]
    },
    {
      "cell_type": "markdown",
      "source": [
        "# Data Preprocessing"
      ],
      "metadata": {
        "id": "K8fMSx8BLul5"
      },
      "id": "K8fMSx8BLul5"
    },
    {
      "cell_type": "code",
      "execution_count": null,
      "id": "5508a6e4-79f5-4955-a204-efa4867d7ae6",
      "metadata": {
        "colab": {
          "base_uri": "https://localhost:8080/"
        },
        "id": "5508a6e4-79f5-4955-a204-efa4867d7ae6",
        "outputId": "029003b2-c7cc-4562-ef60-618dc442da64"
      },
      "outputs": [
        {
          "output_type": "stream",
          "name": "stdout",
          "text": [
            "Missing values per column:\n",
            " Age                   0\n",
            "Gender                0\n",
            "AnnualIncome          0\n",
            "NumberOfPurchases     0\n",
            "ProductCategory       0\n",
            "TimeSpentOnWebsite    0\n",
            "LoyaltyProgram        0\n",
            "DiscountsAvailed      0\n",
            "PurchaseStatus        0\n",
            "dtype: int64\n"
          ]
        }
      ],
      "source": [
        "# Check for missing values\n",
        "print(\"Missing values per column:\\n\", df.isnull().sum())"
      ]
    },
    {
      "cell_type": "code",
      "execution_count": null,
      "id": "d9362e85-fead-4a7c-acfb-3b27a7dee9ee",
      "metadata": {
        "colab": {
          "base_uri": "https://localhost:8080/"
        },
        "id": "d9362e85-fead-4a7c-acfb-3b27a7dee9ee",
        "outputId": "6bff440e-1954-4f77-9322-770b847a84f7"
      },
      "outputs": [
        {
          "output_type": "stream",
          "name": "stdout",
          "text": [
            "Outliers per column:\n",
            " Age                   0\n",
            "Gender                0\n",
            "AnnualIncome          0\n",
            "NumberOfPurchases     0\n",
            "ProductCategory       0\n",
            "TimeSpentOnWebsite    0\n",
            "LoyaltyProgram        0\n",
            "DiscountsAvailed      0\n",
            "PurchaseStatus        0\n",
            "dtype: int64\n"
          ]
        }
      ],
      "source": [
        "# Outlier detection using the IQR method\n",
        "Q1 = df.quantile(0.25)\n",
        "Q3 = df.quantile(0.75)\n",
        "IQR = Q3 - Q1\n",
        "outlier_counts = ((df < (Q1 - 1.5 * IQR)) | (df > (Q3 + 1.5 * IQR))).sum()\n",
        "print(\"Outliers per column:\\n\", outlier_counts)"
      ]
    },
    {
      "cell_type": "markdown",
      "source": [
        "The dataset has neither missing values nor outliers.\n"
      ],
      "metadata": {
        "id": "_2xvoySpB9Wg"
      },
      "id": "_2xvoySpB9Wg"
    },
    {
      "cell_type": "markdown",
      "source": [
        "### Check and handle redundancies"
      ],
      "metadata": {
        "id": "2JyBn-baCrS2"
      },
      "id": "2JyBn-baCrS2"
    },
    {
      "cell_type": "code",
      "source": [
        "#Check for duplicates\n",
        "print(\"Duplicate rows:\", df.duplicated().sum())"
      ],
      "metadata": {
        "colab": {
          "base_uri": "https://localhost:8080/"
        },
        "id": "Dqf9k4PqMFDd",
        "outputId": "bce1cc01-95bb-4dab-8fb0-f57686f0f8e7"
      },
      "id": "Dqf9k4PqMFDd",
      "execution_count": null,
      "outputs": [
        {
          "output_type": "stream",
          "name": "stdout",
          "text": [
            "Duplicate rows: 112\n"
          ]
        }
      ]
    },
    {
      "cell_type": "code",
      "source": [
        "# handle redundancies by removing them\n",
        "df = df.drop_duplicates()"
      ],
      "metadata": {
        "id": "osYy9PbOC9lz"
      },
      "id": "osYy9PbOC9lz",
      "execution_count": null,
      "outputs": []
    },
    {
      "cell_type": "code",
      "source": [
        "print(\"Duplicate rows:\", df.duplicated().sum())\n",
        "print ('no duplicate rows')"
      ],
      "metadata": {
        "colab": {
          "base_uri": "https://localhost:8080/"
        },
        "id": "IUfEerMeDea4",
        "outputId": "c7a198eb-6e35-4ddb-a694-cee87c4db61d"
      },
      "id": "IUfEerMeDea4",
      "execution_count": null,
      "outputs": [
        {
          "output_type": "stream",
          "name": "stdout",
          "text": [
            "Duplicate rows: 0\n",
            "no duplicate rows\n"
          ]
        }
      ]
    },
    {
      "cell_type": "code",
      "execution_count": null,
      "metadata": {
        "colab": {
          "base_uri": "https://localhost:8080/",
          "height": 363
        },
        "outputId": "a0e852c3-cd69-4218-814f-93310a596cb0",
        "id": "7lkTeMZiOmsT"
      },
      "outputs": [
        {
          "output_type": "execute_result",
          "data": {
            "text/plain": [
              "   Age  Gender   AnnualIncome  NumberOfPurchases  ProductCategory  \\\n",
              "0   40       1   66120.267939                  8                0   \n",
              "1   20       1   23579.773583                  4                2   \n",
              "2   27       1  127821.306432                 11                2   \n",
              "3   24       1  137798.623120                 19                3   \n",
              "4   31       1   99300.964220                 19                1   \n",
              "5   66       1   37758.117475                 14                4   \n",
              "6   39       1  126883.385286                 16                3   \n",
              "7   64       1   39707.359724                 13                2   \n",
              "8   43       0  102797.301269                 20                1   \n",
              "9   20       1   63854.921080                 16                0   \n",
              "\n",
              "   TimeSpentOnWebsite  LoyaltyProgram  DiscountsAvailed  PurchaseStatus  \n",
              "0           30.568601               0                 5               1  \n",
              "1           38.240097               0                 5               0  \n",
              "2           31.633212               1                 0               1  \n",
              "3           46.167059               0                 4               1  \n",
              "4           19.823592               0                 0               1  \n",
              "5           17.827493               0                 2               0  \n",
              "6           42.085384               1                 4               1  \n",
              "7           17.190292               1                 0               0  \n",
              "8            6.023475               0                 3               0  \n",
              "9           38.572466               0                 5               1  "
            ],
            "text/html": [
              "\n",
              "  <div id=\"df-33ba534a-7ae9-4ef6-be3d-e89b55dd122c\" class=\"colab-df-container\">\n",
              "    <div>\n",
              "<style scoped>\n",
              "    .dataframe tbody tr th:only-of-type {\n",
              "        vertical-align: middle;\n",
              "    }\n",
              "\n",
              "    .dataframe tbody tr th {\n",
              "        vertical-align: top;\n",
              "    }\n",
              "\n",
              "    .dataframe thead th {\n",
              "        text-align: right;\n",
              "    }\n",
              "</style>\n",
              "<table border=\"1\" class=\"dataframe\">\n",
              "  <thead>\n",
              "    <tr style=\"text-align: right;\">\n",
              "      <th></th>\n",
              "      <th>Age</th>\n",
              "      <th>Gender</th>\n",
              "      <th>AnnualIncome</th>\n",
              "      <th>NumberOfPurchases</th>\n",
              "      <th>ProductCategory</th>\n",
              "      <th>TimeSpentOnWebsite</th>\n",
              "      <th>LoyaltyProgram</th>\n",
              "      <th>DiscountsAvailed</th>\n",
              "      <th>PurchaseStatus</th>\n",
              "    </tr>\n",
              "  </thead>\n",
              "  <tbody>\n",
              "    <tr>\n",
              "      <th>0</th>\n",
              "      <td>40</td>\n",
              "      <td>1</td>\n",
              "      <td>66120.267939</td>\n",
              "      <td>8</td>\n",
              "      <td>0</td>\n",
              "      <td>30.568601</td>\n",
              "      <td>0</td>\n",
              "      <td>5</td>\n",
              "      <td>1</td>\n",
              "    </tr>\n",
              "    <tr>\n",
              "      <th>1</th>\n",
              "      <td>20</td>\n",
              "      <td>1</td>\n",
              "      <td>23579.773583</td>\n",
              "      <td>4</td>\n",
              "      <td>2</td>\n",
              "      <td>38.240097</td>\n",
              "      <td>0</td>\n",
              "      <td>5</td>\n",
              "      <td>0</td>\n",
              "    </tr>\n",
              "    <tr>\n",
              "      <th>2</th>\n",
              "      <td>27</td>\n",
              "      <td>1</td>\n",
              "      <td>127821.306432</td>\n",
              "      <td>11</td>\n",
              "      <td>2</td>\n",
              "      <td>31.633212</td>\n",
              "      <td>1</td>\n",
              "      <td>0</td>\n",
              "      <td>1</td>\n",
              "    </tr>\n",
              "    <tr>\n",
              "      <th>3</th>\n",
              "      <td>24</td>\n",
              "      <td>1</td>\n",
              "      <td>137798.623120</td>\n",
              "      <td>19</td>\n",
              "      <td>3</td>\n",
              "      <td>46.167059</td>\n",
              "      <td>0</td>\n",
              "      <td>4</td>\n",
              "      <td>1</td>\n",
              "    </tr>\n",
              "    <tr>\n",
              "      <th>4</th>\n",
              "      <td>31</td>\n",
              "      <td>1</td>\n",
              "      <td>99300.964220</td>\n",
              "      <td>19</td>\n",
              "      <td>1</td>\n",
              "      <td>19.823592</td>\n",
              "      <td>0</td>\n",
              "      <td>0</td>\n",
              "      <td>1</td>\n",
              "    </tr>\n",
              "    <tr>\n",
              "      <th>5</th>\n",
              "      <td>66</td>\n",
              "      <td>1</td>\n",
              "      <td>37758.117475</td>\n",
              "      <td>14</td>\n",
              "      <td>4</td>\n",
              "      <td>17.827493</td>\n",
              "      <td>0</td>\n",
              "      <td>2</td>\n",
              "      <td>0</td>\n",
              "    </tr>\n",
              "    <tr>\n",
              "      <th>6</th>\n",
              "      <td>39</td>\n",
              "      <td>1</td>\n",
              "      <td>126883.385286</td>\n",
              "      <td>16</td>\n",
              "      <td>3</td>\n",
              "      <td>42.085384</td>\n",
              "      <td>1</td>\n",
              "      <td>4</td>\n",
              "      <td>1</td>\n",
              "    </tr>\n",
              "    <tr>\n",
              "      <th>7</th>\n",
              "      <td>64</td>\n",
              "      <td>1</td>\n",
              "      <td>39707.359724</td>\n",
              "      <td>13</td>\n",
              "      <td>2</td>\n",
              "      <td>17.190292</td>\n",
              "      <td>1</td>\n",
              "      <td>0</td>\n",
              "      <td>0</td>\n",
              "    </tr>\n",
              "    <tr>\n",
              "      <th>8</th>\n",
              "      <td>43</td>\n",
              "      <td>0</td>\n",
              "      <td>102797.301269</td>\n",
              "      <td>20</td>\n",
              "      <td>1</td>\n",
              "      <td>6.023475</td>\n",
              "      <td>0</td>\n",
              "      <td>3</td>\n",
              "      <td>0</td>\n",
              "    </tr>\n",
              "    <tr>\n",
              "      <th>9</th>\n",
              "      <td>20</td>\n",
              "      <td>1</td>\n",
              "      <td>63854.921080</td>\n",
              "      <td>16</td>\n",
              "      <td>0</td>\n",
              "      <td>38.572466</td>\n",
              "      <td>0</td>\n",
              "      <td>5</td>\n",
              "      <td>1</td>\n",
              "    </tr>\n",
              "  </tbody>\n",
              "</table>\n",
              "</div>\n",
              "    <div class=\"colab-df-buttons\">\n",
              "\n",
              "  <div class=\"colab-df-container\">\n",
              "    <button class=\"colab-df-convert\" onclick=\"convertToInteractive('df-33ba534a-7ae9-4ef6-be3d-e89b55dd122c')\"\n",
              "            title=\"Convert this dataframe to an interactive table.\"\n",
              "            style=\"display:none;\">\n",
              "\n",
              "  <svg xmlns=\"http://www.w3.org/2000/svg\" height=\"24px\" viewBox=\"0 -960 960 960\">\n",
              "    <path d=\"M120-120v-720h720v720H120Zm60-500h600v-160H180v160Zm220 220h160v-160H400v160Zm0 220h160v-160H400v160ZM180-400h160v-160H180v160Zm440 0h160v-160H620v160ZM180-180h160v-160H180v160Zm440 0h160v-160H620v160Z\"/>\n",
              "  </svg>\n",
              "    </button>\n",
              "\n",
              "  <style>\n",
              "    .colab-df-container {\n",
              "      display:flex;\n",
              "      gap: 12px;\n",
              "    }\n",
              "\n",
              "    .colab-df-convert {\n",
              "      background-color: #E8F0FE;\n",
              "      border: none;\n",
              "      border-radius: 50%;\n",
              "      cursor: pointer;\n",
              "      display: none;\n",
              "      fill: #1967D2;\n",
              "      height: 32px;\n",
              "      padding: 0 0 0 0;\n",
              "      width: 32px;\n",
              "    }\n",
              "\n",
              "    .colab-df-convert:hover {\n",
              "      background-color: #E2EBFA;\n",
              "      box-shadow: 0px 1px 2px rgba(60, 64, 67, 0.3), 0px 1px 3px 1px rgba(60, 64, 67, 0.15);\n",
              "      fill: #174EA6;\n",
              "    }\n",
              "\n",
              "    .colab-df-buttons div {\n",
              "      margin-bottom: 4px;\n",
              "    }\n",
              "\n",
              "    [theme=dark] .colab-df-convert {\n",
              "      background-color: #3B4455;\n",
              "      fill: #D2E3FC;\n",
              "    }\n",
              "\n",
              "    [theme=dark] .colab-df-convert:hover {\n",
              "      background-color: #434B5C;\n",
              "      box-shadow: 0px 1px 3px 1px rgba(0, 0, 0, 0.15);\n",
              "      filter: drop-shadow(0px 1px 2px rgba(0, 0, 0, 0.3));\n",
              "      fill: #FFFFFF;\n",
              "    }\n",
              "  </style>\n",
              "\n",
              "    <script>\n",
              "      const buttonEl =\n",
              "        document.querySelector('#df-33ba534a-7ae9-4ef6-be3d-e89b55dd122c button.colab-df-convert');\n",
              "      buttonEl.style.display =\n",
              "        google.colab.kernel.accessAllowed ? 'block' : 'none';\n",
              "\n",
              "      async function convertToInteractive(key) {\n",
              "        const element = document.querySelector('#df-33ba534a-7ae9-4ef6-be3d-e89b55dd122c');\n",
              "        const dataTable =\n",
              "          await google.colab.kernel.invokeFunction('convertToInteractive',\n",
              "                                                    [key], {});\n",
              "        if (!dataTable) return;\n",
              "\n",
              "        const docLinkHtml = 'Like what you see? Visit the ' +\n",
              "          '<a target=\"_blank\" href=https://colab.research.google.com/notebooks/data_table.ipynb>data table notebook</a>'\n",
              "          + ' to learn more about interactive tables.';\n",
              "        element.innerHTML = '';\n",
              "        dataTable['output_type'] = 'display_data';\n",
              "        await google.colab.output.renderOutput(dataTable, element);\n",
              "        const docLink = document.createElement('div');\n",
              "        docLink.innerHTML = docLinkHtml;\n",
              "        element.appendChild(docLink);\n",
              "      }\n",
              "    </script>\n",
              "  </div>\n",
              "\n",
              "\n",
              "    <div id=\"df-716e2f9b-db9a-4417-b2df-8085a842e6ec\">\n",
              "      <button class=\"colab-df-quickchart\" onclick=\"quickchart('df-716e2f9b-db9a-4417-b2df-8085a842e6ec')\"\n",
              "                title=\"Suggest charts\"\n",
              "                style=\"display:none;\">\n",
              "\n",
              "<svg xmlns=\"http://www.w3.org/2000/svg\" height=\"24px\"viewBox=\"0 0 24 24\"\n",
              "     width=\"24px\">\n",
              "    <g>\n",
              "        <path d=\"M19 3H5c-1.1 0-2 .9-2 2v14c0 1.1.9 2 2 2h14c1.1 0 2-.9 2-2V5c0-1.1-.9-2-2-2zM9 17H7v-7h2v7zm4 0h-2V7h2v10zm4 0h-2v-4h2v4z\"/>\n",
              "    </g>\n",
              "</svg>\n",
              "      </button>\n",
              "\n",
              "<style>\n",
              "  .colab-df-quickchart {\n",
              "      --bg-color: #E8F0FE;\n",
              "      --fill-color: #1967D2;\n",
              "      --hover-bg-color: #E2EBFA;\n",
              "      --hover-fill-color: #174EA6;\n",
              "      --disabled-fill-color: #AAA;\n",
              "      --disabled-bg-color: #DDD;\n",
              "  }\n",
              "\n",
              "  [theme=dark] .colab-df-quickchart {\n",
              "      --bg-color: #3B4455;\n",
              "      --fill-color: #D2E3FC;\n",
              "      --hover-bg-color: #434B5C;\n",
              "      --hover-fill-color: #FFFFFF;\n",
              "      --disabled-bg-color: #3B4455;\n",
              "      --disabled-fill-color: #666;\n",
              "  }\n",
              "\n",
              "  .colab-df-quickchart {\n",
              "    background-color: var(--bg-color);\n",
              "    border: none;\n",
              "    border-radius: 50%;\n",
              "    cursor: pointer;\n",
              "    display: none;\n",
              "    fill: var(--fill-color);\n",
              "    height: 32px;\n",
              "    padding: 0;\n",
              "    width: 32px;\n",
              "  }\n",
              "\n",
              "  .colab-df-quickchart:hover {\n",
              "    background-color: var(--hover-bg-color);\n",
              "    box-shadow: 0 1px 2px rgba(60, 64, 67, 0.3), 0 1px 3px 1px rgba(60, 64, 67, 0.15);\n",
              "    fill: var(--button-hover-fill-color);\n",
              "  }\n",
              "\n",
              "  .colab-df-quickchart-complete:disabled,\n",
              "  .colab-df-quickchart-complete:disabled:hover {\n",
              "    background-color: var(--disabled-bg-color);\n",
              "    fill: var(--disabled-fill-color);\n",
              "    box-shadow: none;\n",
              "  }\n",
              "\n",
              "  .colab-df-spinner {\n",
              "    border: 2px solid var(--fill-color);\n",
              "    border-color: transparent;\n",
              "    border-bottom-color: var(--fill-color);\n",
              "    animation:\n",
              "      spin 1s steps(1) infinite;\n",
              "  }\n",
              "\n",
              "  @keyframes spin {\n",
              "    0% {\n",
              "      border-color: transparent;\n",
              "      border-bottom-color: var(--fill-color);\n",
              "      border-left-color: var(--fill-color);\n",
              "    }\n",
              "    20% {\n",
              "      border-color: transparent;\n",
              "      border-left-color: var(--fill-color);\n",
              "      border-top-color: var(--fill-color);\n",
              "    }\n",
              "    30% {\n",
              "      border-color: transparent;\n",
              "      border-left-color: var(--fill-color);\n",
              "      border-top-color: var(--fill-color);\n",
              "      border-right-color: var(--fill-color);\n",
              "    }\n",
              "    40% {\n",
              "      border-color: transparent;\n",
              "      border-right-color: var(--fill-color);\n",
              "      border-top-color: var(--fill-color);\n",
              "    }\n",
              "    60% {\n",
              "      border-color: transparent;\n",
              "      border-right-color: var(--fill-color);\n",
              "    }\n",
              "    80% {\n",
              "      border-color: transparent;\n",
              "      border-right-color: var(--fill-color);\n",
              "      border-bottom-color: var(--fill-color);\n",
              "    }\n",
              "    90% {\n",
              "      border-color: transparent;\n",
              "      border-bottom-color: var(--fill-color);\n",
              "    }\n",
              "  }\n",
              "</style>\n",
              "\n",
              "      <script>\n",
              "        async function quickchart(key) {\n",
              "          const quickchartButtonEl =\n",
              "            document.querySelector('#' + key + ' button');\n",
              "          quickchartButtonEl.disabled = true;  // To prevent multiple clicks.\n",
              "          quickchartButtonEl.classList.add('colab-df-spinner');\n",
              "          try {\n",
              "            const charts = await google.colab.kernel.invokeFunction(\n",
              "                'suggestCharts', [key], {});\n",
              "          } catch (error) {\n",
              "            console.error('Error during call to suggestCharts:', error);\n",
              "          }\n",
              "          quickchartButtonEl.classList.remove('colab-df-spinner');\n",
              "          quickchartButtonEl.classList.add('colab-df-quickchart-complete');\n",
              "        }\n",
              "        (() => {\n",
              "          let quickchartButtonEl =\n",
              "            document.querySelector('#df-716e2f9b-db9a-4417-b2df-8085a842e6ec button');\n",
              "          quickchartButtonEl.style.display =\n",
              "            google.colab.kernel.accessAllowed ? 'block' : 'none';\n",
              "        })();\n",
              "      </script>\n",
              "    </div>\n",
              "\n",
              "    </div>\n",
              "  </div>\n"
            ],
            "application/vnd.google.colaboratory.intrinsic+json": {
              "type": "dataframe",
              "variable_name": "df",
              "summary": "{\n  \"name\": \"df\",\n  \"rows\": 1388,\n  \"fields\": [\n    {\n      \"column\": \"Age\",\n      \"properties\": {\n        \"dtype\": \"number\",\n        \"std\": 15,\n        \"min\": 18,\n        \"max\": 70,\n        \"num_unique_values\": 53,\n        \"samples\": [\n          67,\n          58,\n          21\n        ],\n        \"semantic_type\": \"\",\n        \"description\": \"\"\n      }\n    },\n    {\n      \"column\": \"Gender\",\n      \"properties\": {\n        \"dtype\": \"number\",\n        \"std\": 0,\n        \"min\": 0,\n        \"max\": 1,\n        \"num_unique_values\": 2,\n        \"samples\": [\n          0,\n          1\n        ],\n        \"semantic_type\": \"\",\n        \"description\": \"\"\n      }\n    },\n    {\n      \"column\": \"AnnualIncome\",\n      \"properties\": {\n        \"dtype\": \"number\",\n        \"std\": 37541.13647813938,\n        \"min\": 20001.5125181976,\n        \"max\": 149785.17648108344,\n        \"num_unique_values\": 1388,\n        \"samples\": [\n          52903.200093349136,\n          60536.09730108375\n        ],\n        \"semantic_type\": \"\",\n        \"description\": \"\"\n      }\n    },\n    {\n      \"column\": \"NumberOfPurchases\",\n      \"properties\": {\n        \"dtype\": \"number\",\n        \"std\": 5,\n        \"min\": 0,\n        \"max\": 20,\n        \"num_unique_values\": 21,\n        \"samples\": [\n          8,\n          1\n        ],\n        \"semantic_type\": \"\",\n        \"description\": \"\"\n      }\n    },\n    {\n      \"column\": \"ProductCategory\",\n      \"properties\": {\n        \"dtype\": \"number\",\n        \"std\": 1,\n        \"min\": 0,\n        \"max\": 4,\n        \"num_unique_values\": 5,\n        \"samples\": [\n          2,\n          4\n        ],\n        \"semantic_type\": \"\",\n        \"description\": \"\"\n      }\n    },\n    {\n      \"column\": \"TimeSpentOnWebsite\",\n      \"properties\": {\n        \"dtype\": \"number\",\n        \"std\": 16.976851775074696,\n        \"min\": 1.037023481078914,\n        \"max\": 59.991105424697615,\n        \"num_unique_values\": 1388,\n        \"samples\": [\n          8.81566828705343,\n          55.95726056320416\n        ],\n        \"semantic_type\": \"\",\n        \"description\": \"\"\n      }\n    },\n    {\n      \"column\": \"LoyaltyProgram\",\n      \"properties\": {\n        \"dtype\": \"number\",\n        \"std\": 0,\n        \"min\": 0,\n        \"max\": 1,\n        \"num_unique_values\": 2,\n        \"samples\": [\n          1,\n          0\n        ],\n        \"semantic_type\": \"\",\n        \"description\": \"\"\n      }\n    },\n    {\n      \"column\": \"DiscountsAvailed\",\n      \"properties\": {\n        \"dtype\": \"number\",\n        \"std\": 1,\n        \"min\": 0,\n        \"max\": 5,\n        \"num_unique_values\": 6,\n        \"samples\": [\n          5,\n          0\n        ],\n        \"semantic_type\": \"\",\n        \"description\": \"\"\n      }\n    },\n    {\n      \"column\": \"PurchaseStatus\",\n      \"properties\": {\n        \"dtype\": \"number\",\n        \"std\": 0,\n        \"min\": 0,\n        \"max\": 1,\n        \"num_unique_values\": 2,\n        \"samples\": [\n          0,\n          1\n        ],\n        \"semantic_type\": \"\",\n        \"description\": \"\"\n      }\n    }\n  ]\n}"
            }
          },
          "metadata": {},
          "execution_count": 24
        }
      ],
      "source": [
        "# Preview the first 10 rows\n",
        "df.head(10)"
      ],
      "id": "7lkTeMZiOmsT"
    },
    {
      "cell_type": "markdown",
      "source": [
        "### One-hot encode ProductCategory"
      ],
      "metadata": {
        "id": "0MaDukCldeSG"
      },
      "id": "0MaDukCldeSG"
    },
    {
      "cell_type": "code",
      "source": [
        "# One-hot encode ProductCategory\n",
        "df_encoded = pd.get_dummies(df, columns=['ProductCategory'], prefix='PC', dtype = int)\n"
      ],
      "metadata": {
        "id": "t6YATT7uZVbF"
      },
      "id": "t6YATT7uZVbF",
      "execution_count": null,
      "outputs": []
    },
    {
      "cell_type": "code",
      "source": [
        "# View result\n",
        "#PC means Product Category\n",
        "df_encoded.head(10)"
      ],
      "metadata": {
        "colab": {
          "base_uri": "https://localhost:8080/",
          "height": 383
        },
        "id": "zR1mO5dnc5we",
        "outputId": "675ee9d9-9364-491b-a1a7-1657b8883ccb"
      },
      "id": "zR1mO5dnc5we",
      "execution_count": null,
      "outputs": [
        {
          "output_type": "execute_result",
          "data": {
            "text/plain": [
              "   Age  Gender   AnnualIncome  NumberOfPurchases  TimeSpentOnWebsite  \\\n",
              "0   40       1   66120.267939                  8           30.568601   \n",
              "1   20       1   23579.773583                  4           38.240097   \n",
              "2   27       1  127821.306432                 11           31.633212   \n",
              "3   24       1  137798.623120                 19           46.167059   \n",
              "4   31       1   99300.964220                 19           19.823592   \n",
              "5   66       1   37758.117475                 14           17.827493   \n",
              "6   39       1  126883.385286                 16           42.085384   \n",
              "7   64       1   39707.359724                 13           17.190292   \n",
              "8   43       0  102797.301269                 20            6.023475   \n",
              "9   20       1   63854.921080                 16           38.572466   \n",
              "\n",
              "   LoyaltyProgram  DiscountsAvailed  PurchaseStatus  PC_0  PC_1  PC_2  PC_3  \\\n",
              "0               0                 5               1     1     0     0     0   \n",
              "1               0                 5               0     0     0     1     0   \n",
              "2               1                 0               1     0     0     1     0   \n",
              "3               0                 4               1     0     0     0     1   \n",
              "4               0                 0               1     0     1     0     0   \n",
              "5               0                 2               0     0     0     0     0   \n",
              "6               1                 4               1     0     0     0     1   \n",
              "7               1                 0               0     0     0     1     0   \n",
              "8               0                 3               0     0     1     0     0   \n",
              "9               0                 5               1     1     0     0     0   \n",
              "\n",
              "   PC_4  \n",
              "0     0  \n",
              "1     0  \n",
              "2     0  \n",
              "3     0  \n",
              "4     0  \n",
              "5     1  \n",
              "6     0  \n",
              "7     0  \n",
              "8     0  \n",
              "9     0  "
            ],
            "text/html": [
              "\n",
              "  <div id=\"df-1cf10054-1fde-41f5-a52c-df6f4e7787ea\" class=\"colab-df-container\">\n",
              "    <div>\n",
              "<style scoped>\n",
              "    .dataframe tbody tr th:only-of-type {\n",
              "        vertical-align: middle;\n",
              "    }\n",
              "\n",
              "    .dataframe tbody tr th {\n",
              "        vertical-align: top;\n",
              "    }\n",
              "\n",
              "    .dataframe thead th {\n",
              "        text-align: right;\n",
              "    }\n",
              "</style>\n",
              "<table border=\"1\" class=\"dataframe\">\n",
              "  <thead>\n",
              "    <tr style=\"text-align: right;\">\n",
              "      <th></th>\n",
              "      <th>Age</th>\n",
              "      <th>Gender</th>\n",
              "      <th>AnnualIncome</th>\n",
              "      <th>NumberOfPurchases</th>\n",
              "      <th>TimeSpentOnWebsite</th>\n",
              "      <th>LoyaltyProgram</th>\n",
              "      <th>DiscountsAvailed</th>\n",
              "      <th>PurchaseStatus</th>\n",
              "      <th>PC_0</th>\n",
              "      <th>PC_1</th>\n",
              "      <th>PC_2</th>\n",
              "      <th>PC_3</th>\n",
              "      <th>PC_4</th>\n",
              "    </tr>\n",
              "  </thead>\n",
              "  <tbody>\n",
              "    <tr>\n",
              "      <th>0</th>\n",
              "      <td>40</td>\n",
              "      <td>1</td>\n",
              "      <td>66120.267939</td>\n",
              "      <td>8</td>\n",
              "      <td>30.568601</td>\n",
              "      <td>0</td>\n",
              "      <td>5</td>\n",
              "      <td>1</td>\n",
              "      <td>1</td>\n",
              "      <td>0</td>\n",
              "      <td>0</td>\n",
              "      <td>0</td>\n",
              "      <td>0</td>\n",
              "    </tr>\n",
              "    <tr>\n",
              "      <th>1</th>\n",
              "      <td>20</td>\n",
              "      <td>1</td>\n",
              "      <td>23579.773583</td>\n",
              "      <td>4</td>\n",
              "      <td>38.240097</td>\n",
              "      <td>0</td>\n",
              "      <td>5</td>\n",
              "      <td>0</td>\n",
              "      <td>0</td>\n",
              "      <td>0</td>\n",
              "      <td>1</td>\n",
              "      <td>0</td>\n",
              "      <td>0</td>\n",
              "    </tr>\n",
              "    <tr>\n",
              "      <th>2</th>\n",
              "      <td>27</td>\n",
              "      <td>1</td>\n",
              "      <td>127821.306432</td>\n",
              "      <td>11</td>\n",
              "      <td>31.633212</td>\n",
              "      <td>1</td>\n",
              "      <td>0</td>\n",
              "      <td>1</td>\n",
              "      <td>0</td>\n",
              "      <td>0</td>\n",
              "      <td>1</td>\n",
              "      <td>0</td>\n",
              "      <td>0</td>\n",
              "    </tr>\n",
              "    <tr>\n",
              "      <th>3</th>\n",
              "      <td>24</td>\n",
              "      <td>1</td>\n",
              "      <td>137798.623120</td>\n",
              "      <td>19</td>\n",
              "      <td>46.167059</td>\n",
              "      <td>0</td>\n",
              "      <td>4</td>\n",
              "      <td>1</td>\n",
              "      <td>0</td>\n",
              "      <td>0</td>\n",
              "      <td>0</td>\n",
              "      <td>1</td>\n",
              "      <td>0</td>\n",
              "    </tr>\n",
              "    <tr>\n",
              "      <th>4</th>\n",
              "      <td>31</td>\n",
              "      <td>1</td>\n",
              "      <td>99300.964220</td>\n",
              "      <td>19</td>\n",
              "      <td>19.823592</td>\n",
              "      <td>0</td>\n",
              "      <td>0</td>\n",
              "      <td>1</td>\n",
              "      <td>0</td>\n",
              "      <td>1</td>\n",
              "      <td>0</td>\n",
              "      <td>0</td>\n",
              "      <td>0</td>\n",
              "    </tr>\n",
              "    <tr>\n",
              "      <th>5</th>\n",
              "      <td>66</td>\n",
              "      <td>1</td>\n",
              "      <td>37758.117475</td>\n",
              "      <td>14</td>\n",
              "      <td>17.827493</td>\n",
              "      <td>0</td>\n",
              "      <td>2</td>\n",
              "      <td>0</td>\n",
              "      <td>0</td>\n",
              "      <td>0</td>\n",
              "      <td>0</td>\n",
              "      <td>0</td>\n",
              "      <td>1</td>\n",
              "    </tr>\n",
              "    <tr>\n",
              "      <th>6</th>\n",
              "      <td>39</td>\n",
              "      <td>1</td>\n",
              "      <td>126883.385286</td>\n",
              "      <td>16</td>\n",
              "      <td>42.085384</td>\n",
              "      <td>1</td>\n",
              "      <td>4</td>\n",
              "      <td>1</td>\n",
              "      <td>0</td>\n",
              "      <td>0</td>\n",
              "      <td>0</td>\n",
              "      <td>1</td>\n",
              "      <td>0</td>\n",
              "    </tr>\n",
              "    <tr>\n",
              "      <th>7</th>\n",
              "      <td>64</td>\n",
              "      <td>1</td>\n",
              "      <td>39707.359724</td>\n",
              "      <td>13</td>\n",
              "      <td>17.190292</td>\n",
              "      <td>1</td>\n",
              "      <td>0</td>\n",
              "      <td>0</td>\n",
              "      <td>0</td>\n",
              "      <td>0</td>\n",
              "      <td>1</td>\n",
              "      <td>0</td>\n",
              "      <td>0</td>\n",
              "    </tr>\n",
              "    <tr>\n",
              "      <th>8</th>\n",
              "      <td>43</td>\n",
              "      <td>0</td>\n",
              "      <td>102797.301269</td>\n",
              "      <td>20</td>\n",
              "      <td>6.023475</td>\n",
              "      <td>0</td>\n",
              "      <td>3</td>\n",
              "      <td>0</td>\n",
              "      <td>0</td>\n",
              "      <td>1</td>\n",
              "      <td>0</td>\n",
              "      <td>0</td>\n",
              "      <td>0</td>\n",
              "    </tr>\n",
              "    <tr>\n",
              "      <th>9</th>\n",
              "      <td>20</td>\n",
              "      <td>1</td>\n",
              "      <td>63854.921080</td>\n",
              "      <td>16</td>\n",
              "      <td>38.572466</td>\n",
              "      <td>0</td>\n",
              "      <td>5</td>\n",
              "      <td>1</td>\n",
              "      <td>1</td>\n",
              "      <td>0</td>\n",
              "      <td>0</td>\n",
              "      <td>0</td>\n",
              "      <td>0</td>\n",
              "    </tr>\n",
              "  </tbody>\n",
              "</table>\n",
              "</div>\n",
              "    <div class=\"colab-df-buttons\">\n",
              "\n",
              "  <div class=\"colab-df-container\">\n",
              "    <button class=\"colab-df-convert\" onclick=\"convertToInteractive('df-1cf10054-1fde-41f5-a52c-df6f4e7787ea')\"\n",
              "            title=\"Convert this dataframe to an interactive table.\"\n",
              "            style=\"display:none;\">\n",
              "\n",
              "  <svg xmlns=\"http://www.w3.org/2000/svg\" height=\"24px\" viewBox=\"0 -960 960 960\">\n",
              "    <path d=\"M120-120v-720h720v720H120Zm60-500h600v-160H180v160Zm220 220h160v-160H400v160Zm0 220h160v-160H400v160ZM180-400h160v-160H180v160Zm440 0h160v-160H620v160ZM180-180h160v-160H180v160Zm440 0h160v-160H620v160Z\"/>\n",
              "  </svg>\n",
              "    </button>\n",
              "\n",
              "  <style>\n",
              "    .colab-df-container {\n",
              "      display:flex;\n",
              "      gap: 12px;\n",
              "    }\n",
              "\n",
              "    .colab-df-convert {\n",
              "      background-color: #E8F0FE;\n",
              "      border: none;\n",
              "      border-radius: 50%;\n",
              "      cursor: pointer;\n",
              "      display: none;\n",
              "      fill: #1967D2;\n",
              "      height: 32px;\n",
              "      padding: 0 0 0 0;\n",
              "      width: 32px;\n",
              "    }\n",
              "\n",
              "    .colab-df-convert:hover {\n",
              "      background-color: #E2EBFA;\n",
              "      box-shadow: 0px 1px 2px rgba(60, 64, 67, 0.3), 0px 1px 3px 1px rgba(60, 64, 67, 0.15);\n",
              "      fill: #174EA6;\n",
              "    }\n",
              "\n",
              "    .colab-df-buttons div {\n",
              "      margin-bottom: 4px;\n",
              "    }\n",
              "\n",
              "    [theme=dark] .colab-df-convert {\n",
              "      background-color: #3B4455;\n",
              "      fill: #D2E3FC;\n",
              "    }\n",
              "\n",
              "    [theme=dark] .colab-df-convert:hover {\n",
              "      background-color: #434B5C;\n",
              "      box-shadow: 0px 1px 3px 1px rgba(0, 0, 0, 0.15);\n",
              "      filter: drop-shadow(0px 1px 2px rgba(0, 0, 0, 0.3));\n",
              "      fill: #FFFFFF;\n",
              "    }\n",
              "  </style>\n",
              "\n",
              "    <script>\n",
              "      const buttonEl =\n",
              "        document.querySelector('#df-1cf10054-1fde-41f5-a52c-df6f4e7787ea button.colab-df-convert');\n",
              "      buttonEl.style.display =\n",
              "        google.colab.kernel.accessAllowed ? 'block' : 'none';\n",
              "\n",
              "      async function convertToInteractive(key) {\n",
              "        const element = document.querySelector('#df-1cf10054-1fde-41f5-a52c-df6f4e7787ea');\n",
              "        const dataTable =\n",
              "          await google.colab.kernel.invokeFunction('convertToInteractive',\n",
              "                                                    [key], {});\n",
              "        if (!dataTable) return;\n",
              "\n",
              "        const docLinkHtml = 'Like what you see? Visit the ' +\n",
              "          '<a target=\"_blank\" href=https://colab.research.google.com/notebooks/data_table.ipynb>data table notebook</a>'\n",
              "          + ' to learn more about interactive tables.';\n",
              "        element.innerHTML = '';\n",
              "        dataTable['output_type'] = 'display_data';\n",
              "        await google.colab.output.renderOutput(dataTable, element);\n",
              "        const docLink = document.createElement('div');\n",
              "        docLink.innerHTML = docLinkHtml;\n",
              "        element.appendChild(docLink);\n",
              "      }\n",
              "    </script>\n",
              "  </div>\n",
              "\n",
              "\n",
              "    <div id=\"df-e2574e78-d236-45e2-98d9-058e3212a7c0\">\n",
              "      <button class=\"colab-df-quickchart\" onclick=\"quickchart('df-e2574e78-d236-45e2-98d9-058e3212a7c0')\"\n",
              "                title=\"Suggest charts\"\n",
              "                style=\"display:none;\">\n",
              "\n",
              "<svg xmlns=\"http://www.w3.org/2000/svg\" height=\"24px\"viewBox=\"0 0 24 24\"\n",
              "     width=\"24px\">\n",
              "    <g>\n",
              "        <path d=\"M19 3H5c-1.1 0-2 .9-2 2v14c0 1.1.9 2 2 2h14c1.1 0 2-.9 2-2V5c0-1.1-.9-2-2-2zM9 17H7v-7h2v7zm4 0h-2V7h2v10zm4 0h-2v-4h2v4z\"/>\n",
              "    </g>\n",
              "</svg>\n",
              "      </button>\n",
              "\n",
              "<style>\n",
              "  .colab-df-quickchart {\n",
              "      --bg-color: #E8F0FE;\n",
              "      --fill-color: #1967D2;\n",
              "      --hover-bg-color: #E2EBFA;\n",
              "      --hover-fill-color: #174EA6;\n",
              "      --disabled-fill-color: #AAA;\n",
              "      --disabled-bg-color: #DDD;\n",
              "  }\n",
              "\n",
              "  [theme=dark] .colab-df-quickchart {\n",
              "      --bg-color: #3B4455;\n",
              "      --fill-color: #D2E3FC;\n",
              "      --hover-bg-color: #434B5C;\n",
              "      --hover-fill-color: #FFFFFF;\n",
              "      --disabled-bg-color: #3B4455;\n",
              "      --disabled-fill-color: #666;\n",
              "  }\n",
              "\n",
              "  .colab-df-quickchart {\n",
              "    background-color: var(--bg-color);\n",
              "    border: none;\n",
              "    border-radius: 50%;\n",
              "    cursor: pointer;\n",
              "    display: none;\n",
              "    fill: var(--fill-color);\n",
              "    height: 32px;\n",
              "    padding: 0;\n",
              "    width: 32px;\n",
              "  }\n",
              "\n",
              "  .colab-df-quickchart:hover {\n",
              "    background-color: var(--hover-bg-color);\n",
              "    box-shadow: 0 1px 2px rgba(60, 64, 67, 0.3), 0 1px 3px 1px rgba(60, 64, 67, 0.15);\n",
              "    fill: var(--button-hover-fill-color);\n",
              "  }\n",
              "\n",
              "  .colab-df-quickchart-complete:disabled,\n",
              "  .colab-df-quickchart-complete:disabled:hover {\n",
              "    background-color: var(--disabled-bg-color);\n",
              "    fill: var(--disabled-fill-color);\n",
              "    box-shadow: none;\n",
              "  }\n",
              "\n",
              "  .colab-df-spinner {\n",
              "    border: 2px solid var(--fill-color);\n",
              "    border-color: transparent;\n",
              "    border-bottom-color: var(--fill-color);\n",
              "    animation:\n",
              "      spin 1s steps(1) infinite;\n",
              "  }\n",
              "\n",
              "  @keyframes spin {\n",
              "    0% {\n",
              "      border-color: transparent;\n",
              "      border-bottom-color: var(--fill-color);\n",
              "      border-left-color: var(--fill-color);\n",
              "    }\n",
              "    20% {\n",
              "      border-color: transparent;\n",
              "      border-left-color: var(--fill-color);\n",
              "      border-top-color: var(--fill-color);\n",
              "    }\n",
              "    30% {\n",
              "      border-color: transparent;\n",
              "      border-left-color: var(--fill-color);\n",
              "      border-top-color: var(--fill-color);\n",
              "      border-right-color: var(--fill-color);\n",
              "    }\n",
              "    40% {\n",
              "      border-color: transparent;\n",
              "      border-right-color: var(--fill-color);\n",
              "      border-top-color: var(--fill-color);\n",
              "    }\n",
              "    60% {\n",
              "      border-color: transparent;\n",
              "      border-right-color: var(--fill-color);\n",
              "    }\n",
              "    80% {\n",
              "      border-color: transparent;\n",
              "      border-right-color: var(--fill-color);\n",
              "      border-bottom-color: var(--fill-color);\n",
              "    }\n",
              "    90% {\n",
              "      border-color: transparent;\n",
              "      border-bottom-color: var(--fill-color);\n",
              "    }\n",
              "  }\n",
              "</style>\n",
              "\n",
              "      <script>\n",
              "        async function quickchart(key) {\n",
              "          const quickchartButtonEl =\n",
              "            document.querySelector('#' + key + ' button');\n",
              "          quickchartButtonEl.disabled = true;  // To prevent multiple clicks.\n",
              "          quickchartButtonEl.classList.add('colab-df-spinner');\n",
              "          try {\n",
              "            const charts = await google.colab.kernel.invokeFunction(\n",
              "                'suggestCharts', [key], {});\n",
              "          } catch (error) {\n",
              "            console.error('Error during call to suggestCharts:', error);\n",
              "          }\n",
              "          quickchartButtonEl.classList.remove('colab-df-spinner');\n",
              "          quickchartButtonEl.classList.add('colab-df-quickchart-complete');\n",
              "        }\n",
              "        (() => {\n",
              "          let quickchartButtonEl =\n",
              "            document.querySelector('#df-e2574e78-d236-45e2-98d9-058e3212a7c0 button');\n",
              "          quickchartButtonEl.style.display =\n",
              "            google.colab.kernel.accessAllowed ? 'block' : 'none';\n",
              "        })();\n",
              "      </script>\n",
              "    </div>\n",
              "\n",
              "    </div>\n",
              "  </div>\n"
            ],
            "application/vnd.google.colaboratory.intrinsic+json": {
              "type": "dataframe",
              "variable_name": "df_encoded",
              "summary": "{\n  \"name\": \"df_encoded\",\n  \"rows\": 1388,\n  \"fields\": [\n    {\n      \"column\": \"Age\",\n      \"properties\": {\n        \"dtype\": \"number\",\n        \"std\": 15,\n        \"min\": 18,\n        \"max\": 70,\n        \"num_unique_values\": 53,\n        \"samples\": [\n          67,\n          58,\n          21\n        ],\n        \"semantic_type\": \"\",\n        \"description\": \"\"\n      }\n    },\n    {\n      \"column\": \"Gender\",\n      \"properties\": {\n        \"dtype\": \"number\",\n        \"std\": 0,\n        \"min\": 0,\n        \"max\": 1,\n        \"num_unique_values\": 2,\n        \"samples\": [\n          0,\n          1\n        ],\n        \"semantic_type\": \"\",\n        \"description\": \"\"\n      }\n    },\n    {\n      \"column\": \"AnnualIncome\",\n      \"properties\": {\n        \"dtype\": \"number\",\n        \"std\": 37541.13647813938,\n        \"min\": 20001.5125181976,\n        \"max\": 149785.17648108344,\n        \"num_unique_values\": 1388,\n        \"samples\": [\n          52903.200093349136,\n          60536.09730108375\n        ],\n        \"semantic_type\": \"\",\n        \"description\": \"\"\n      }\n    },\n    {\n      \"column\": \"NumberOfPurchases\",\n      \"properties\": {\n        \"dtype\": \"number\",\n        \"std\": 5,\n        \"min\": 0,\n        \"max\": 20,\n        \"num_unique_values\": 21,\n        \"samples\": [\n          8,\n          1\n        ],\n        \"semantic_type\": \"\",\n        \"description\": \"\"\n      }\n    },\n    {\n      \"column\": \"TimeSpentOnWebsite\",\n      \"properties\": {\n        \"dtype\": \"number\",\n        \"std\": 16.976851775074696,\n        \"min\": 1.037023481078914,\n        \"max\": 59.991105424697615,\n        \"num_unique_values\": 1388,\n        \"samples\": [\n          8.81566828705343,\n          55.95726056320416\n        ],\n        \"semantic_type\": \"\",\n        \"description\": \"\"\n      }\n    },\n    {\n      \"column\": \"LoyaltyProgram\",\n      \"properties\": {\n        \"dtype\": \"number\",\n        \"std\": 0,\n        \"min\": 0,\n        \"max\": 1,\n        \"num_unique_values\": 2,\n        \"samples\": [\n          1,\n          0\n        ],\n        \"semantic_type\": \"\",\n        \"description\": \"\"\n      }\n    },\n    {\n      \"column\": \"DiscountsAvailed\",\n      \"properties\": {\n        \"dtype\": \"number\",\n        \"std\": 1,\n        \"min\": 0,\n        \"max\": 5,\n        \"num_unique_values\": 6,\n        \"samples\": [\n          5,\n          0\n        ],\n        \"semantic_type\": \"\",\n        \"description\": \"\"\n      }\n    },\n    {\n      \"column\": \"PurchaseStatus\",\n      \"properties\": {\n        \"dtype\": \"number\",\n        \"std\": 0,\n        \"min\": 0,\n        \"max\": 1,\n        \"num_unique_values\": 2,\n        \"samples\": [\n          0,\n          1\n        ],\n        \"semantic_type\": \"\",\n        \"description\": \"\"\n      }\n    },\n    {\n      \"column\": \"PC_0\",\n      \"properties\": {\n        \"dtype\": \"number\",\n        \"std\": 0,\n        \"min\": 0,\n        \"max\": 1,\n        \"num_unique_values\": 2,\n        \"samples\": [\n          0,\n          1\n        ],\n        \"semantic_type\": \"\",\n        \"description\": \"\"\n      }\n    },\n    {\n      \"column\": \"PC_1\",\n      \"properties\": {\n        \"dtype\": \"number\",\n        \"std\": 0,\n        \"min\": 0,\n        \"max\": 1,\n        \"num_unique_values\": 2,\n        \"samples\": [\n          1,\n          0\n        ],\n        \"semantic_type\": \"\",\n        \"description\": \"\"\n      }\n    },\n    {\n      \"column\": \"PC_2\",\n      \"properties\": {\n        \"dtype\": \"number\",\n        \"std\": 0,\n        \"min\": 0,\n        \"max\": 1,\n        \"num_unique_values\": 2,\n        \"samples\": [\n          1,\n          0\n        ],\n        \"semantic_type\": \"\",\n        \"description\": \"\"\n      }\n    },\n    {\n      \"column\": \"PC_3\",\n      \"properties\": {\n        \"dtype\": \"number\",\n        \"std\": 0,\n        \"min\": 0,\n        \"max\": 1,\n        \"num_unique_values\": 2,\n        \"samples\": [\n          1,\n          0\n        ],\n        \"semantic_type\": \"\",\n        \"description\": \"\"\n      }\n    },\n    {\n      \"column\": \"PC_4\",\n      \"properties\": {\n        \"dtype\": \"number\",\n        \"std\": 0,\n        \"min\": 0,\n        \"max\": 1,\n        \"num_unique_values\": 2,\n        \"samples\": [\n          1,\n          0\n        ],\n        \"semantic_type\": \"\",\n        \"description\": \"\"\n      }\n    }\n  ]\n}"
            }
          },
          "metadata": {},
          "execution_count": 10
        }
      ]
    },
    {
      "cell_type": "markdown",
      "source": [
        "### Rescale the needed features"
      ],
      "metadata": {
        "id": "oNBcUSLBdrQq"
      },
      "id": "oNBcUSLBdrQq"
    },
    {
      "cell_type": "code",
      "source": [
        "from sklearn.preprocessing import StandardScaler\n",
        "\n",
        "df_std = df_encoded.copy()\n",
        "\n",
        "numerical_cols = [\n",
        "    'Age',\n",
        "    'AnnualIncome',\n",
        "    'NumberOfPurchases',\n",
        "    'TimeSpentOnWebsite',\n",
        "    'DiscountsAvailed'\n",
        "]\n",
        "# Initialize and apply StandardScaler\n",
        "scaler = StandardScaler()\n",
        "df_std[numerical_cols] = scaler.fit_transform(df_std[numerical_cols])\n",
        "\n",
        "# Preview the standardized data\n",
        "print(df_std[numerical_cols].describe().round(3))"
      ],
      "metadata": {
        "colab": {
          "base_uri": "https://localhost:8080/"
        },
        "id": "gHNauLi0qRne",
        "outputId": "3414baf3-a394-4fdf-961b-110b6f5aeb33"
      },
      "id": "gHNauLi0qRne",
      "execution_count": null,
      "outputs": [
        {
          "output_type": "stream",
          "name": "stdout",
          "text": [
            "            Age  AnnualIncome  NumberOfPurchases  TimeSpentOnWebsite  \\\n",
            "count  1388.000      1388.000           1388.000            1388.000   \n",
            "mean      0.000         0.000              0.000               0.000   \n",
            "std       1.000         1.000              1.000               1.000   \n",
            "min      -1.675        -1.724             -1.798              -1.751   \n",
            "25%      -0.852        -0.824             -0.775              -0.847   \n",
            "50%       0.004        -0.002              0.077               0.027   \n",
            "75%       0.844         0.866              0.759               0.820   \n",
            "max       1.683         1.734              1.611               1.723   \n",
            "\n",
            "       DiscountsAvailed  \n",
            "count          1388.000  \n",
            "mean             -0.000  \n",
            "std               1.000  \n",
            "min              -1.536  \n",
            "25%              -0.947  \n",
            "50%               0.230  \n",
            "75%               0.818  \n",
            "max               1.407  \n"
          ]
        }
      ]
    },
    {
      "cell_type": "code",
      "source": [
        "df_std.head(10)"
      ],
      "metadata": {
        "colab": {
          "base_uri": "https://localhost:8080/",
          "height": 383
        },
        "id": "Ff0Eh5NKqbgy",
        "outputId": "24690a1e-f662-4cc9-949e-e61859220567"
      },
      "id": "Ff0Eh5NKqbgy",
      "execution_count": null,
      "outputs": [
        {
          "output_type": "execute_result",
          "data": {
            "text/plain": [
              "        Age  Gender  AnnualIncome  NumberOfPurchases  TimeSpentOnWebsite  \\\n",
              "0 -0.254456       1     -0.495070          -0.434443           -0.010544   \n",
              "1 -1.546283       1     -1.628648          -1.116191            0.441498   \n",
              "2 -1.094144       1      1.149081           0.076869            0.052188   \n",
              "3 -1.287918       1      1.414947           1.440365            0.908594   \n",
              "4 -0.835778       1      0.389098           1.440365           -0.643694   \n",
              "5  1.424918       1     -1.250837           0.588180           -0.761314   \n",
              "6 -0.319048       1      1.124088           0.929054            0.668082   \n",
              "7  1.295736       1     -1.198896           0.417743           -0.798861   \n",
              "8 -0.060682       0      0.482265           1.610802           -1.456865   \n",
              "9 -1.546283       1     -0.555434           0.929054            0.461083   \n",
              "\n",
              "   LoyaltyProgram  DiscountsAvailed  PurchaseStatus  PC_0  PC_1  PC_2  PC_3  \\\n",
              "0               0          1.406691               1     1     0     0     0   \n",
              "1               0          1.406691               0     0     0     1     0   \n",
              "2               1         -1.535574               1     0     0     1     0   \n",
              "3               0          0.818238               1     0     0     0     1   \n",
              "4               0         -1.535574               1     0     1     0     0   \n",
              "5               0         -0.358668               0     0     0     0     0   \n",
              "6               1          0.818238               1     0     0     0     1   \n",
              "7               1         -1.535574               0     0     0     1     0   \n",
              "8               0          0.229785               0     0     1     0     0   \n",
              "9               0          1.406691               1     1     0     0     0   \n",
              "\n",
              "   PC_4  \n",
              "0     0  \n",
              "1     0  \n",
              "2     0  \n",
              "3     0  \n",
              "4     0  \n",
              "5     1  \n",
              "6     0  \n",
              "7     0  \n",
              "8     0  \n",
              "9     0  "
            ],
            "text/html": [
              "\n",
              "  <div id=\"df-ec46782e-0e84-4e64-8da3-7e2df06cdf4e\" class=\"colab-df-container\">\n",
              "    <div>\n",
              "<style scoped>\n",
              "    .dataframe tbody tr th:only-of-type {\n",
              "        vertical-align: middle;\n",
              "    }\n",
              "\n",
              "    .dataframe tbody tr th {\n",
              "        vertical-align: top;\n",
              "    }\n",
              "\n",
              "    .dataframe thead th {\n",
              "        text-align: right;\n",
              "    }\n",
              "</style>\n",
              "<table border=\"1\" class=\"dataframe\">\n",
              "  <thead>\n",
              "    <tr style=\"text-align: right;\">\n",
              "      <th></th>\n",
              "      <th>Age</th>\n",
              "      <th>Gender</th>\n",
              "      <th>AnnualIncome</th>\n",
              "      <th>NumberOfPurchases</th>\n",
              "      <th>TimeSpentOnWebsite</th>\n",
              "      <th>LoyaltyProgram</th>\n",
              "      <th>DiscountsAvailed</th>\n",
              "      <th>PurchaseStatus</th>\n",
              "      <th>PC_0</th>\n",
              "      <th>PC_1</th>\n",
              "      <th>PC_2</th>\n",
              "      <th>PC_3</th>\n",
              "      <th>PC_4</th>\n",
              "    </tr>\n",
              "  </thead>\n",
              "  <tbody>\n",
              "    <tr>\n",
              "      <th>0</th>\n",
              "      <td>-0.254456</td>\n",
              "      <td>1</td>\n",
              "      <td>-0.495070</td>\n",
              "      <td>-0.434443</td>\n",
              "      <td>-0.010544</td>\n",
              "      <td>0</td>\n",
              "      <td>1.406691</td>\n",
              "      <td>1</td>\n",
              "      <td>1</td>\n",
              "      <td>0</td>\n",
              "      <td>0</td>\n",
              "      <td>0</td>\n",
              "      <td>0</td>\n",
              "    </tr>\n",
              "    <tr>\n",
              "      <th>1</th>\n",
              "      <td>-1.546283</td>\n",
              "      <td>1</td>\n",
              "      <td>-1.628648</td>\n",
              "      <td>-1.116191</td>\n",
              "      <td>0.441498</td>\n",
              "      <td>0</td>\n",
              "      <td>1.406691</td>\n",
              "      <td>0</td>\n",
              "      <td>0</td>\n",
              "      <td>0</td>\n",
              "      <td>1</td>\n",
              "      <td>0</td>\n",
              "      <td>0</td>\n",
              "    </tr>\n",
              "    <tr>\n",
              "      <th>2</th>\n",
              "      <td>-1.094144</td>\n",
              "      <td>1</td>\n",
              "      <td>1.149081</td>\n",
              "      <td>0.076869</td>\n",
              "      <td>0.052188</td>\n",
              "      <td>1</td>\n",
              "      <td>-1.535574</td>\n",
              "      <td>1</td>\n",
              "      <td>0</td>\n",
              "      <td>0</td>\n",
              "      <td>1</td>\n",
              "      <td>0</td>\n",
              "      <td>0</td>\n",
              "    </tr>\n",
              "    <tr>\n",
              "      <th>3</th>\n",
              "      <td>-1.287918</td>\n",
              "      <td>1</td>\n",
              "      <td>1.414947</td>\n",
              "      <td>1.440365</td>\n",
              "      <td>0.908594</td>\n",
              "      <td>0</td>\n",
              "      <td>0.818238</td>\n",
              "      <td>1</td>\n",
              "      <td>0</td>\n",
              "      <td>0</td>\n",
              "      <td>0</td>\n",
              "      <td>1</td>\n",
              "      <td>0</td>\n",
              "    </tr>\n",
              "    <tr>\n",
              "      <th>4</th>\n",
              "      <td>-0.835778</td>\n",
              "      <td>1</td>\n",
              "      <td>0.389098</td>\n",
              "      <td>1.440365</td>\n",
              "      <td>-0.643694</td>\n",
              "      <td>0</td>\n",
              "      <td>-1.535574</td>\n",
              "      <td>1</td>\n",
              "      <td>0</td>\n",
              "      <td>1</td>\n",
              "      <td>0</td>\n",
              "      <td>0</td>\n",
              "      <td>0</td>\n",
              "    </tr>\n",
              "    <tr>\n",
              "      <th>5</th>\n",
              "      <td>1.424918</td>\n",
              "      <td>1</td>\n",
              "      <td>-1.250837</td>\n",
              "      <td>0.588180</td>\n",
              "      <td>-0.761314</td>\n",
              "      <td>0</td>\n",
              "      <td>-0.358668</td>\n",
              "      <td>0</td>\n",
              "      <td>0</td>\n",
              "      <td>0</td>\n",
              "      <td>0</td>\n",
              "      <td>0</td>\n",
              "      <td>1</td>\n",
              "    </tr>\n",
              "    <tr>\n",
              "      <th>6</th>\n",
              "      <td>-0.319048</td>\n",
              "      <td>1</td>\n",
              "      <td>1.124088</td>\n",
              "      <td>0.929054</td>\n",
              "      <td>0.668082</td>\n",
              "      <td>1</td>\n",
              "      <td>0.818238</td>\n",
              "      <td>1</td>\n",
              "      <td>0</td>\n",
              "      <td>0</td>\n",
              "      <td>0</td>\n",
              "      <td>1</td>\n",
              "      <td>0</td>\n",
              "    </tr>\n",
              "    <tr>\n",
              "      <th>7</th>\n",
              "      <td>1.295736</td>\n",
              "      <td>1</td>\n",
              "      <td>-1.198896</td>\n",
              "      <td>0.417743</td>\n",
              "      <td>-0.798861</td>\n",
              "      <td>1</td>\n",
              "      <td>-1.535574</td>\n",
              "      <td>0</td>\n",
              "      <td>0</td>\n",
              "      <td>0</td>\n",
              "      <td>1</td>\n",
              "      <td>0</td>\n",
              "      <td>0</td>\n",
              "    </tr>\n",
              "    <tr>\n",
              "      <th>8</th>\n",
              "      <td>-0.060682</td>\n",
              "      <td>0</td>\n",
              "      <td>0.482265</td>\n",
              "      <td>1.610802</td>\n",
              "      <td>-1.456865</td>\n",
              "      <td>0</td>\n",
              "      <td>0.229785</td>\n",
              "      <td>0</td>\n",
              "      <td>0</td>\n",
              "      <td>1</td>\n",
              "      <td>0</td>\n",
              "      <td>0</td>\n",
              "      <td>0</td>\n",
              "    </tr>\n",
              "    <tr>\n",
              "      <th>9</th>\n",
              "      <td>-1.546283</td>\n",
              "      <td>1</td>\n",
              "      <td>-0.555434</td>\n",
              "      <td>0.929054</td>\n",
              "      <td>0.461083</td>\n",
              "      <td>0</td>\n",
              "      <td>1.406691</td>\n",
              "      <td>1</td>\n",
              "      <td>1</td>\n",
              "      <td>0</td>\n",
              "      <td>0</td>\n",
              "      <td>0</td>\n",
              "      <td>0</td>\n",
              "    </tr>\n",
              "  </tbody>\n",
              "</table>\n",
              "</div>\n",
              "    <div class=\"colab-df-buttons\">\n",
              "\n",
              "  <div class=\"colab-df-container\">\n",
              "    <button class=\"colab-df-convert\" onclick=\"convertToInteractive('df-ec46782e-0e84-4e64-8da3-7e2df06cdf4e')\"\n",
              "            title=\"Convert this dataframe to an interactive table.\"\n",
              "            style=\"display:none;\">\n",
              "\n",
              "  <svg xmlns=\"http://www.w3.org/2000/svg\" height=\"24px\" viewBox=\"0 -960 960 960\">\n",
              "    <path d=\"M120-120v-720h720v720H120Zm60-500h600v-160H180v160Zm220 220h160v-160H400v160Zm0 220h160v-160H400v160ZM180-400h160v-160H180v160Zm440 0h160v-160H620v160ZM180-180h160v-160H180v160Zm440 0h160v-160H620v160Z\"/>\n",
              "  </svg>\n",
              "    </button>\n",
              "\n",
              "  <style>\n",
              "    .colab-df-container {\n",
              "      display:flex;\n",
              "      gap: 12px;\n",
              "    }\n",
              "\n",
              "    .colab-df-convert {\n",
              "      background-color: #E8F0FE;\n",
              "      border: none;\n",
              "      border-radius: 50%;\n",
              "      cursor: pointer;\n",
              "      display: none;\n",
              "      fill: #1967D2;\n",
              "      height: 32px;\n",
              "      padding: 0 0 0 0;\n",
              "      width: 32px;\n",
              "    }\n",
              "\n",
              "    .colab-df-convert:hover {\n",
              "      background-color: #E2EBFA;\n",
              "      box-shadow: 0px 1px 2px rgba(60, 64, 67, 0.3), 0px 1px 3px 1px rgba(60, 64, 67, 0.15);\n",
              "      fill: #174EA6;\n",
              "    }\n",
              "\n",
              "    .colab-df-buttons div {\n",
              "      margin-bottom: 4px;\n",
              "    }\n",
              "\n",
              "    [theme=dark] .colab-df-convert {\n",
              "      background-color: #3B4455;\n",
              "      fill: #D2E3FC;\n",
              "    }\n",
              "\n",
              "    [theme=dark] .colab-df-convert:hover {\n",
              "      background-color: #434B5C;\n",
              "      box-shadow: 0px 1px 3px 1px rgba(0, 0, 0, 0.15);\n",
              "      filter: drop-shadow(0px 1px 2px rgba(0, 0, 0, 0.3));\n",
              "      fill: #FFFFFF;\n",
              "    }\n",
              "  </style>\n",
              "\n",
              "    <script>\n",
              "      const buttonEl =\n",
              "        document.querySelector('#df-ec46782e-0e84-4e64-8da3-7e2df06cdf4e button.colab-df-convert');\n",
              "      buttonEl.style.display =\n",
              "        google.colab.kernel.accessAllowed ? 'block' : 'none';\n",
              "\n",
              "      async function convertToInteractive(key) {\n",
              "        const element = document.querySelector('#df-ec46782e-0e84-4e64-8da3-7e2df06cdf4e');\n",
              "        const dataTable =\n",
              "          await google.colab.kernel.invokeFunction('convertToInteractive',\n",
              "                                                    [key], {});\n",
              "        if (!dataTable) return;\n",
              "\n",
              "        const docLinkHtml = 'Like what you see? Visit the ' +\n",
              "          '<a target=\"_blank\" href=https://colab.research.google.com/notebooks/data_table.ipynb>data table notebook</a>'\n",
              "          + ' to learn more about interactive tables.';\n",
              "        element.innerHTML = '';\n",
              "        dataTable['output_type'] = 'display_data';\n",
              "        await google.colab.output.renderOutput(dataTable, element);\n",
              "        const docLink = document.createElement('div');\n",
              "        docLink.innerHTML = docLinkHtml;\n",
              "        element.appendChild(docLink);\n",
              "      }\n",
              "    </script>\n",
              "  </div>\n",
              "\n",
              "\n",
              "    <div id=\"df-4c97dec4-086d-48b7-87b8-46d738040f85\">\n",
              "      <button class=\"colab-df-quickchart\" onclick=\"quickchart('df-4c97dec4-086d-48b7-87b8-46d738040f85')\"\n",
              "                title=\"Suggest charts\"\n",
              "                style=\"display:none;\">\n",
              "\n",
              "<svg xmlns=\"http://www.w3.org/2000/svg\" height=\"24px\"viewBox=\"0 0 24 24\"\n",
              "     width=\"24px\">\n",
              "    <g>\n",
              "        <path d=\"M19 3H5c-1.1 0-2 .9-2 2v14c0 1.1.9 2 2 2h14c1.1 0 2-.9 2-2V5c0-1.1-.9-2-2-2zM9 17H7v-7h2v7zm4 0h-2V7h2v10zm4 0h-2v-4h2v4z\"/>\n",
              "    </g>\n",
              "</svg>\n",
              "      </button>\n",
              "\n",
              "<style>\n",
              "  .colab-df-quickchart {\n",
              "      --bg-color: #E8F0FE;\n",
              "      --fill-color: #1967D2;\n",
              "      --hover-bg-color: #E2EBFA;\n",
              "      --hover-fill-color: #174EA6;\n",
              "      --disabled-fill-color: #AAA;\n",
              "      --disabled-bg-color: #DDD;\n",
              "  }\n",
              "\n",
              "  [theme=dark] .colab-df-quickchart {\n",
              "      --bg-color: #3B4455;\n",
              "      --fill-color: #D2E3FC;\n",
              "      --hover-bg-color: #434B5C;\n",
              "      --hover-fill-color: #FFFFFF;\n",
              "      --disabled-bg-color: #3B4455;\n",
              "      --disabled-fill-color: #666;\n",
              "  }\n",
              "\n",
              "  .colab-df-quickchart {\n",
              "    background-color: var(--bg-color);\n",
              "    border: none;\n",
              "    border-radius: 50%;\n",
              "    cursor: pointer;\n",
              "    display: none;\n",
              "    fill: var(--fill-color);\n",
              "    height: 32px;\n",
              "    padding: 0;\n",
              "    width: 32px;\n",
              "  }\n",
              "\n",
              "  .colab-df-quickchart:hover {\n",
              "    background-color: var(--hover-bg-color);\n",
              "    box-shadow: 0 1px 2px rgba(60, 64, 67, 0.3), 0 1px 3px 1px rgba(60, 64, 67, 0.15);\n",
              "    fill: var(--button-hover-fill-color);\n",
              "  }\n",
              "\n",
              "  .colab-df-quickchart-complete:disabled,\n",
              "  .colab-df-quickchart-complete:disabled:hover {\n",
              "    background-color: var(--disabled-bg-color);\n",
              "    fill: var(--disabled-fill-color);\n",
              "    box-shadow: none;\n",
              "  }\n",
              "\n",
              "  .colab-df-spinner {\n",
              "    border: 2px solid var(--fill-color);\n",
              "    border-color: transparent;\n",
              "    border-bottom-color: var(--fill-color);\n",
              "    animation:\n",
              "      spin 1s steps(1) infinite;\n",
              "  }\n",
              "\n",
              "  @keyframes spin {\n",
              "    0% {\n",
              "      border-color: transparent;\n",
              "      border-bottom-color: var(--fill-color);\n",
              "      border-left-color: var(--fill-color);\n",
              "    }\n",
              "    20% {\n",
              "      border-color: transparent;\n",
              "      border-left-color: var(--fill-color);\n",
              "      border-top-color: var(--fill-color);\n",
              "    }\n",
              "    30% {\n",
              "      border-color: transparent;\n",
              "      border-left-color: var(--fill-color);\n",
              "      border-top-color: var(--fill-color);\n",
              "      border-right-color: var(--fill-color);\n",
              "    }\n",
              "    40% {\n",
              "      border-color: transparent;\n",
              "      border-right-color: var(--fill-color);\n",
              "      border-top-color: var(--fill-color);\n",
              "    }\n",
              "    60% {\n",
              "      border-color: transparent;\n",
              "      border-right-color: var(--fill-color);\n",
              "    }\n",
              "    80% {\n",
              "      border-color: transparent;\n",
              "      border-right-color: var(--fill-color);\n",
              "      border-bottom-color: var(--fill-color);\n",
              "    }\n",
              "    90% {\n",
              "      border-color: transparent;\n",
              "      border-bottom-color: var(--fill-color);\n",
              "    }\n",
              "  }\n",
              "</style>\n",
              "\n",
              "      <script>\n",
              "        async function quickchart(key) {\n",
              "          const quickchartButtonEl =\n",
              "            document.querySelector('#' + key + ' button');\n",
              "          quickchartButtonEl.disabled = true;  // To prevent multiple clicks.\n",
              "          quickchartButtonEl.classList.add('colab-df-spinner');\n",
              "          try {\n",
              "            const charts = await google.colab.kernel.invokeFunction(\n",
              "                'suggestCharts', [key], {});\n",
              "          } catch (error) {\n",
              "            console.error('Error during call to suggestCharts:', error);\n",
              "          }\n",
              "          quickchartButtonEl.classList.remove('colab-df-spinner');\n",
              "          quickchartButtonEl.classList.add('colab-df-quickchart-complete');\n",
              "        }\n",
              "        (() => {\n",
              "          let quickchartButtonEl =\n",
              "            document.querySelector('#df-4c97dec4-086d-48b7-87b8-46d738040f85 button');\n",
              "          quickchartButtonEl.style.display =\n",
              "            google.colab.kernel.accessAllowed ? 'block' : 'none';\n",
              "        })();\n",
              "      </script>\n",
              "    </div>\n",
              "\n",
              "    </div>\n",
              "  </div>\n"
            ],
            "application/vnd.google.colaboratory.intrinsic+json": {
              "type": "dataframe",
              "variable_name": "df_std",
              "summary": "{\n  \"name\": \"df_std\",\n  \"rows\": 1388,\n  \"fields\": [\n    {\n      \"column\": \"Age\",\n      \"properties\": {\n        \"dtype\": \"number\",\n        \"std\": 1.0003604253135592,\n        \"min\": -1.6754657265389326,\n        \"max\": 1.6832836979326262,\n        \"num_unique_values\": 53,\n        \"samples\": [\n          1.4895096926746516,\n          0.908187676900728,\n          -1.481691721280958\n        ],\n        \"semantic_type\": \"\",\n        \"description\": \"\"\n      }\n    },\n    {\n      \"column\": \"Gender\",\n      \"properties\": {\n        \"dtype\": \"number\",\n        \"std\": 0,\n        \"min\": 0,\n        \"max\": 1,\n        \"num_unique_values\": 2,\n        \"samples\": [\n          0,\n          1\n        ],\n        \"semantic_type\": \"\",\n        \"description\": \"\"\n      }\n    },\n    {\n      \"column\": \"AnnualIncome\",\n      \"properties\": {\n        \"dtype\": \"number\",\n        \"std\": 1.0003604253135598,\n        \"min\": -1.7239981957453518,\n        \"max\": 1.7343531878433243,\n        \"num_unique_values\": 1388,\n        \"samples\": [\n          -0.8472653830512453,\n          -0.6438712129906131\n        ],\n        \"semantic_type\": \"\",\n        \"description\": \"\"\n      }\n    },\n    {\n      \"column\": \"NumberOfPurchases\",\n      \"properties\": {\n        \"dtype\": \"number\",\n        \"std\": 1.0003604253135556,\n        \"min\": -1.7979392508038308,\n        \"max\": 1.6108022873954824,\n        \"num_unique_values\": 21,\n        \"samples\": [\n          -0.4344426355241055,\n          -1.627502173893865\n        ],\n        \"semantic_type\": \"\",\n        \"description\": \"\"\n      }\n    },\n    {\n      \"column\": \"TimeSpentOnWebsite\",\n      \"properties\": {\n        \"dtype\": \"number\",\n        \"std\": 1.0003604253135598,\n        \"min\": -1.7506914916306313,\n        \"max\": 1.7231758230193106,\n        \"num_unique_values\": 1388,\n        \"samples\": [\n          -1.2923351055607213,\n          1.4854816489312084\n        ],\n        \"semantic_type\": \"\",\n        \"description\": \"\"\n      }\n    },\n    {\n      \"column\": \"LoyaltyProgram\",\n      \"properties\": {\n        \"dtype\": \"number\",\n        \"std\": 0,\n        \"min\": 0,\n        \"max\": 1,\n        \"num_unique_values\": 2,\n        \"samples\": [\n          1,\n          0\n        ],\n        \"semantic_type\": \"\",\n        \"description\": \"\"\n      }\n    },\n    {\n      \"column\": \"DiscountsAvailed\",\n      \"properties\": {\n        \"dtype\": \"number\",\n        \"std\": 1.0003604253135585,\n        \"min\": -1.5355736561187068,\n        \"max\": 1.4066906104367392,\n        \"num_unique_values\": 6,\n        \"samples\": [\n          1.4066906104367392,\n          -1.5355736561187068\n        ],\n        \"semantic_type\": \"\",\n        \"description\": \"\"\n      }\n    },\n    {\n      \"column\": \"PurchaseStatus\",\n      \"properties\": {\n        \"dtype\": \"number\",\n        \"std\": 0,\n        \"min\": 0,\n        \"max\": 1,\n        \"num_unique_values\": 2,\n        \"samples\": [\n          0,\n          1\n        ],\n        \"semantic_type\": \"\",\n        \"description\": \"\"\n      }\n    },\n    {\n      \"column\": \"PC_0\",\n      \"properties\": {\n        \"dtype\": \"number\",\n        \"std\": 0,\n        \"min\": 0,\n        \"max\": 1,\n        \"num_unique_values\": 2,\n        \"samples\": [\n          0,\n          1\n        ],\n        \"semantic_type\": \"\",\n        \"description\": \"\"\n      }\n    },\n    {\n      \"column\": \"PC_1\",\n      \"properties\": {\n        \"dtype\": \"number\",\n        \"std\": 0,\n        \"min\": 0,\n        \"max\": 1,\n        \"num_unique_values\": 2,\n        \"samples\": [\n          1,\n          0\n        ],\n        \"semantic_type\": \"\",\n        \"description\": \"\"\n      }\n    },\n    {\n      \"column\": \"PC_2\",\n      \"properties\": {\n        \"dtype\": \"number\",\n        \"std\": 0,\n        \"min\": 0,\n        \"max\": 1,\n        \"num_unique_values\": 2,\n        \"samples\": [\n          1,\n          0\n        ],\n        \"semantic_type\": \"\",\n        \"description\": \"\"\n      }\n    },\n    {\n      \"column\": \"PC_3\",\n      \"properties\": {\n        \"dtype\": \"number\",\n        \"std\": 0,\n        \"min\": 0,\n        \"max\": 1,\n        \"num_unique_values\": 2,\n        \"samples\": [\n          1,\n          0\n        ],\n        \"semantic_type\": \"\",\n        \"description\": \"\"\n      }\n    },\n    {\n      \"column\": \"PC_4\",\n      \"properties\": {\n        \"dtype\": \"number\",\n        \"std\": 0,\n        \"min\": 0,\n        \"max\": 1,\n        \"num_unique_values\": 2,\n        \"samples\": [\n          1,\n          0\n        ],\n        \"semantic_type\": \"\",\n        \"description\": \"\"\n      }\n    }\n  ]\n}"
            }
          },
          "metadata": {},
          "execution_count": 12
        }
      ]
    },
    {
      "cell_type": "markdown",
      "source": [
        "# ML"
      ],
      "metadata": {
        "id": "Rfd5u6Z2hm1s"
      },
      "id": "Rfd5u6Z2hm1s"
    },
    {
      "cell_type": "markdown",
      "source": [
        "## Data Spliting"
      ],
      "metadata": {
        "id": "qtD-VxIJc2RE"
      },
      "id": "qtD-VxIJc2RE"
    },
    {
      "cell_type": "code",
      "source": [
        "# Split data\n",
        "X = df_std.drop('PurchaseStatus', axis=1)\n",
        "y = df_std['PurchaseStatus']\n",
        "X_train, X_test, y_train, y_test = train_test_split(X, y, test_size=0.2, random_state=42)"
      ],
      "metadata": {
        "id": "3zSMRYO8QOxJ"
      },
      "id": "3zSMRYO8QOxJ",
      "execution_count": null,
      "outputs": []
    },
    {
      "cell_type": "markdown",
      "source": [
        "## xgboost"
      ],
      "metadata": {
        "id": "A7zr2xMed5tZ"
      },
      "id": "A7zr2xMed5tZ"
    },
    {
      "cell_type": "code",
      "source": [
        "from xgboost import XGBClassifier\n",
        "\n",
        "xgb = XGBClassifier(eval_metric='logloss')\n",
        "xgb.fit(X_train, y_train)\n",
        "\n",
        "y_train_pred_xgb = xgb.predict(X_train)\n",
        "y_pred_xgb = xgb.predict(X_test)\n",
        "\n",
        "print('XGBoost:')\n",
        "print('Training Accuracy : ', accuracy_score(y_train, y_train_pred_xgb))\n",
        "print('Test Accuracy : ', accuracy_score(y_test, y_pred_xgb))"
      ],
      "metadata": {
        "colab": {
          "base_uri": "https://localhost:8080/"
        },
        "id": "WEcqvtQGSKXv",
        "outputId": "c0883a7e-f280-4e1b-834f-0f26eac6fc8b"
      },
      "id": "WEcqvtQGSKXv",
      "execution_count": null,
      "outputs": [
        {
          "output_type": "stream",
          "name": "stdout",
          "text": [
            "XGBoost:\n",
            "Training Accuracy :  1.0\n",
            "Test Accuracy :  0.9028776978417267\n"
          ]
        }
      ]
    },
    {
      "cell_type": "markdown",
      "source": [
        "XGBoost suffers from over fitting since the gap is 0.097 wich is more than 0.05"
      ],
      "metadata": {
        "id": "CSAKYyjQhzMo"
      },
      "id": "CSAKYyjQhzMo"
    },
    {
      "cell_type": "code",
      "source": [
        "CR = classification_report(y_test, y_pred_xgb)\n",
        "print(\"Classification Report:\")\n",
        "print(CR)"
      ],
      "metadata": {
        "colab": {
          "base_uri": "https://localhost:8080/"
        },
        "id": "JokOVdv1YJhZ",
        "outputId": "83b574ee-15e7-4ccf-c8cc-58e186b883be"
      },
      "id": "JokOVdv1YJhZ",
      "execution_count": null,
      "outputs": [
        {
          "output_type": "stream",
          "name": "stdout",
          "text": [
            "Classification Report:\n",
            "              precision    recall  f1-score   support\n",
            "\n",
            "           0       0.91      0.91      0.91       149\n",
            "           1       0.90      0.89      0.89       129\n",
            "\n",
            "    accuracy                           0.90       278\n",
            "   macro avg       0.90      0.90      0.90       278\n",
            "weighted avg       0.90      0.90      0.90       278\n",
            "\n"
          ]
        }
      ]
    },
    {
      "cell_type": "markdown",
      "source": [
        "## Logistic Regression"
      ],
      "metadata": {
        "id": "I1UoytTMdLCY"
      },
      "id": "I1UoytTMdLCY"
    },
    {
      "cell_type": "code",
      "source": [
        "# Logistic Regression\n",
        "from sklearn.linear_model import LogisticRegression\n",
        "\n",
        "lg = LogisticRegression()\n",
        "lg.fit(X_train, y_train)\n",
        "\n",
        "y_train_pred_lg = lg.predict(X_train)\n",
        "y_pred_lg = lg.predict(X_test)\n",
        "\n",
        "print('Logistic Regression:')\n",
        "print('Training Accuracy : ', accuracy_score(y_train, y_train_pred_lg))\n",
        "print('Test Accuracy : ', accuracy_score(y_test, y_pred_lg))"
      ],
      "metadata": {
        "colab": {
          "base_uri": "https://localhost:8080/"
        },
        "id": "OhrOl1GeSruQ",
        "outputId": "d243330a-ac6a-48e2-be38-cd0535f2950b"
      },
      "id": "OhrOl1GeSruQ",
      "execution_count": null,
      "outputs": [
        {
          "output_type": "stream",
          "name": "stdout",
          "text": [
            "Logistic Regression:\n",
            "Training Accuracy :  0.80990990990991\n",
            "Test Accuracy :  0.841726618705036\n"
          ]
        }
      ]
    },
    {
      "cell_type": "markdown",
      "source": [
        "Logistic Regression does not suffer from overfitting or under fitting since the test accuracy is more than 80% and the gap is less than 0.05"
      ],
      "metadata": {
        "id": "NivcE5ipieO6"
      },
      "id": "NivcE5ipieO6"
    },
    {
      "cell_type": "code",
      "source": [
        "CR = classification_report(y_test, y_pred_lg)\n",
        "print(\"Logistic Regression Classification Report:\")\n",
        "print(CR)"
      ],
      "metadata": {
        "colab": {
          "base_uri": "https://localhost:8080/"
        },
        "id": "4u_Qy9v6XsRp",
        "outputId": "2464a970-e975-4721-98f5-762135b402f3"
      },
      "id": "4u_Qy9v6XsRp",
      "execution_count": null,
      "outputs": [
        {
          "output_type": "stream",
          "name": "stdout",
          "text": [
            "Logistic Regression Classification Report:\n",
            "              precision    recall  f1-score   support\n",
            "\n",
            "           0       0.86      0.85      0.85       149\n",
            "           1       0.82      0.84      0.83       129\n",
            "\n",
            "    accuracy                           0.84       278\n",
            "   macro avg       0.84      0.84      0.84       278\n",
            "weighted avg       0.84      0.84      0.84       278\n",
            "\n"
          ]
        }
      ]
    },
    {
      "cell_type": "markdown",
      "source": [
        "## Random Forest"
      ],
      "metadata": {
        "id": "CHyN9F3PdygJ"
      },
      "id": "CHyN9F3PdygJ"
    },
    {
      "cell_type": "code",
      "source": [
        "from sklearn.ensemble import RandomForestClassifier\n",
        "\n",
        "rf = RandomForestClassifier()\n",
        "rf.fit(X_train, y_train)\n",
        "\n",
        "y_train_pred_rf = rf.predict(X_train)\n",
        "y_pred_rf = rf.predict(X_test)\n",
        "\n",
        "print('Random Forest:')\n",
        "print('Training Accuracy : ', accuracy_score(y_train, y_train_pred_rf))\n",
        "print('Test Accuracy : ', accuracy_score(y_test, y_pred_rf))"
      ],
      "metadata": {
        "colab": {
          "base_uri": "https://localhost:8080/"
        },
        "id": "2OaKzK3lSKU3",
        "outputId": "1c44f290-ffee-46ad-c28d-65b17a9fb83e"
      },
      "id": "2OaKzK3lSKU3",
      "execution_count": null,
      "outputs": [
        {
          "output_type": "stream",
          "name": "stdout",
          "text": [
            "Random Forest:\n",
            "Training Accuracy :  1.0\n",
            "Test Accuracy :  0.9172661870503597\n"
          ]
        }
      ]
    },
    {
      "cell_type": "markdown",
      "source": [
        "Random Forest suffers from over fitting since the gap is 0.086 wich is more than 0.05"
      ],
      "metadata": {
        "id": "bKIm6HTAiShg"
      },
      "id": "bKIm6HTAiShg"
    },
    {
      "cell_type": "code",
      "source": [
        "CR = classification_report(y_test, y_pred_rf)\n",
        "print(\"Random Forest Classification Report:\")\n",
        "print(CR)"
      ],
      "metadata": {
        "colab": {
          "base_uri": "https://localhost:8080/"
        },
        "id": "45gwbVAzXx4e",
        "outputId": "0b471d93-fbc2-4680-a96f-f554ff341ae6"
      },
      "id": "45gwbVAzXx4e",
      "execution_count": null,
      "outputs": [
        {
          "output_type": "stream",
          "name": "stdout",
          "text": [
            "Random Forest Classification Report:\n",
            "              precision    recall  f1-score   support\n",
            "\n",
            "           0       0.91      0.93      0.92       149\n",
            "           1       0.92      0.90      0.91       129\n",
            "\n",
            "    accuracy                           0.92       278\n",
            "   macro avg       0.92      0.92      0.92       278\n",
            "weighted avg       0.92      0.92      0.92       278\n",
            "\n"
          ]
        }
      ]
    },
    {
      "cell_type": "markdown",
      "source": [
        "## Support Vector"
      ],
      "metadata": {
        "id": "9G1YXZxvd1Y-"
      },
      "id": "9G1YXZxvd1Y-"
    },
    {
      "cell_type": "code",
      "source": [
        "from sklearn.svm import SVC\n",
        "\n",
        "svm = SVC()\n",
        "svm.fit(X_train, y_train)\n",
        "\n",
        "y_train_pred_svm = svm.predict(X_train)\n",
        "y_pred_svm = svm.predict(X_test)\n",
        "\n",
        "print('Support Vector Machine:')\n",
        "print('Training Accuracy : ', accuracy_score(y_train, y_train_pred_svm))\n",
        "print('Test Accuracy : ', accuracy_score(y_test, y_pred_svm))"
      ],
      "metadata": {
        "colab": {
          "base_uri": "https://localhost:8080/"
        },
        "id": "jvjFrNo8X0u6",
        "outputId": "fe84d14e-6224-4e1e-d305-2e2bae51e970"
      },
      "id": "jvjFrNo8X0u6",
      "execution_count": null,
      "outputs": [
        {
          "output_type": "stream",
          "name": "stdout",
          "text": [
            "Support Vector Machine:\n",
            "Training Accuracy :  0.8954954954954955\n",
            "Test Accuracy :  0.8633093525179856\n"
          ]
        }
      ]
    },
    {
      "cell_type": "markdown",
      "source": [
        "Support Vector Machine does not suffer from overfitting or under fitting since the test accuracy is more than 80% and the gap is 0.032 wich is less than 0.05"
      ],
      "metadata": {
        "id": "wzsQhw9FjROY"
      },
      "id": "wzsQhw9FjROY"
    },
    {
      "cell_type": "code",
      "source": [
        "CR = classification_report(y_test, y_pred_svm)\n",
        "print(\"Classification Report:\")\n",
        "print(CR)"
      ],
      "metadata": {
        "colab": {
          "base_uri": "https://localhost:8080/"
        },
        "id": "2Lfq8UWYQO00",
        "outputId": "4fa43d9d-9b10-43db-d940-78f657faf4c0"
      },
      "id": "2Lfq8UWYQO00",
      "execution_count": null,
      "outputs": [
        {
          "output_type": "stream",
          "name": "stdout",
          "text": [
            "Classification Report:\n",
            "              precision    recall  f1-score   support\n",
            "\n",
            "           0       0.86      0.89      0.87       149\n",
            "           1       0.86      0.84      0.85       129\n",
            "\n",
            "    accuracy                           0.86       278\n",
            "   macro avg       0.86      0.86      0.86       278\n",
            "weighted avg       0.86      0.86      0.86       278\n",
            "\n"
          ]
        }
      ]
    },
    {
      "cell_type": "markdown",
      "source": [
        "# Hyperparameter Tuning using GridSearchCV"
      ],
      "metadata": {
        "id": "2b6_NPMwUymY"
      },
      "id": "2b6_NPMwUymY"
    },
    {
      "cell_type": "markdown",
      "source": [
        "## XGBoost Tuning"
      ],
      "metadata": {
        "id": "fcb60NBqVODj"
      },
      "id": "fcb60NBqVODj"
    },
    {
      "cell_type": "code",
      "source": [
        "param_grid_xgb = {\n",
        "    'n_estimators': [100, 300, 500],\n",
        "    'max_depth': [3, 5, 7],\n",
        "    'learning_rate': [0.01, 0.1],\n",
        "    'subsample': [0.8, 1.0],\n",
        "    'colsample_bytree': [0.8, 1.0]\n",
        "\n",
        "}\n",
        "grid_xgb = GridSearchCV(XGBClassifier(eval_metric='logloss'), param_grid_xgb, cv=5, scoring='accuracy')\n",
        "grid_xgb.fit(X_train, y_train)\n",
        "\n",
        "print(\"Best Params for XGBoost:\", grid_xgb.best_params_)\n",
        "print(\"Best Accuracy:\", grid_xgb.best_score_)\n"
      ],
      "metadata": {
        "colab": {
          "base_uri": "https://localhost:8080/"
        },
        "id": "fqcIs1Y2Udq8",
        "outputId": "f8f74a19-9d35-477a-a937-7955ce796c13"
      },
      "id": "fqcIs1Y2Udq8",
      "execution_count": null,
      "outputs": [
        {
          "output_type": "stream",
          "name": "stdout",
          "text": [
            "Best Params for XGBoost: {'colsample_bytree': 0.8, 'learning_rate': 0.1, 'max_depth': 3, 'n_estimators': 100, 'subsample': 0.8}\n",
            "Best Accuracy: 0.9333333333333333\n"
          ]
        }
      ]
    },
    {
      "cell_type": "code",
      "source": [
        "XGB_best = grid_xgb.best_estimator_\n",
        "XGB_best.fit(X_train, y_train)\n",
        "y_pred_xgb2 = XGB_best.predict(X_test)\n",
        "print(\"XGBoost:\")\n",
        "print(\"  Training Accuracy After Best Parameters:\", XGB_best.score(X_train, y_train))\n",
        "print(\"  Testing Accuracy After Best Parameters:\", XGB_best.score(X_test, y_test))"
      ],
      "metadata": {
        "colab": {
          "base_uri": "https://localhost:8080/"
        },
        "id": "ZRmOb2scoEmo",
        "outputId": "fdda3186-f175-41ef-ce38-cc2c28a29da5"
      },
      "id": "ZRmOb2scoEmo",
      "execution_count": null,
      "outputs": [
        {
          "output_type": "stream",
          "name": "stdout",
          "text": [
            "XGBoost:\n",
            "  Training Accuracy After Best Parameters: 0.9513513513513514\n",
            "  Testing Accuracy After Best Parameters: 0.9244604316546763\n"
          ]
        }
      ]
    },
    {
      "cell_type": "code",
      "source": [
        "from sklearn.metrics import classification_report\n",
        "\n",
        "# Classification Report\n",
        "print(\"XGBoost after tuning Classification Report:\")\n",
        "print(classification_report(y_test, y_pred_xgb2))"
      ],
      "metadata": {
        "colab": {
          "base_uri": "https://localhost:8080/"
        },
        "id": "kdKyVdGD_H4U",
        "outputId": "0ae613d5-b6e4-4007-f3b8-3b5273b57fcd"
      },
      "id": "kdKyVdGD_H4U",
      "execution_count": null,
      "outputs": [
        {
          "output_type": "stream",
          "name": "stdout",
          "text": [
            "XGBoost after tuning Classification Report:\n",
            "              precision    recall  f1-score   support\n",
            "\n",
            "           0       0.92      0.94      0.93       149\n",
            "           1       0.93      0.91      0.92       129\n",
            "\n",
            "    accuracy                           0.92       278\n",
            "   macro avg       0.92      0.92      0.92       278\n",
            "weighted avg       0.92      0.92      0.92       278\n",
            "\n"
          ]
        }
      ]
    },
    {
      "cell_type": "markdown",
      "source": [
        "XGBoost after tuning does not suffer from overfitting or underfitting since the test accuracy is more than 80% and the gap is 0.0268 wich less than 0.05"
      ],
      "metadata": {
        "id": "pZmz6JvqkBBv"
      },
      "id": "pZmz6JvqkBBv"
    },
    {
      "cell_type": "markdown",
      "source": [
        "Tuning did improve the XGBoost model by reducing the gap, and now the model does not suffer from overfitting"
      ],
      "metadata": {
        "id": "N-aVysEjkn4D"
      },
      "id": "N-aVysEjkn4D"
    },
    {
      "cell_type": "markdown",
      "source": [
        "## Logistic Regression Tuning"
      ],
      "metadata": {
        "id": "B2OtB0FbU_FO"
      },
      "id": "B2OtB0FbU_FO"
    },
    {
      "cell_type": "code",
      "source": [
        "from sklearn.model_selection import GridSearchCV\n",
        "\n",
        "param_grid_lr = {'C': [0.1, 1, 10]}\n",
        "grid_lr = GridSearchCV(LogisticRegression(), param_grid_lr, cv=5, scoring='accuracy')\n",
        "grid_lr.fit(X_train, y_train)\n",
        "\n",
        "print(\"Best Params for Logistic Regression:\", grid_lr.best_params_)\n",
        "print(\"Best Accuracy:\", grid_lr.best_score_)\n"
      ],
      "metadata": {
        "colab": {
          "base_uri": "https://localhost:8080/"
        },
        "id": "Su4I7p5iSKbI",
        "outputId": "758730c2-b886-4187-8738-c39ee9cbe096"
      },
      "id": "Su4I7p5iSKbI",
      "execution_count": null,
      "outputs": [
        {
          "output_type": "stream",
          "name": "stdout",
          "text": [
            "Best Params for Logistic Regression: {'C': 10}\n",
            "Best Accuracy: 0.8036036036036036\n"
          ]
        }
      ]
    },
    {
      "cell_type": "code",
      "source": [
        "# Logistic Regression (Tuned)\n",
        "LR_best = grid_lr.best_estimator_\n",
        "LR_best.fit(X_train, y_train)\n",
        "y_pred_lr_2 = LR_best.predict(X_test)\n",
        "print(\"Logistic Regression:\")\n",
        "print(\"  Training Accuracy After Best Parameters:\", LR_best.score(X_train, y_train))\n",
        "print(\"  Testing Accuracy After Best Parameters:\", LR_best.score(X_test, y_test))\n",
        "print()"
      ],
      "metadata": {
        "colab": {
          "base_uri": "https://localhost:8080/"
        },
        "id": "rl3nYZ9BnfpE",
        "outputId": "187dafec-8a01-4413-bb8f-2e9cee71091c"
      },
      "id": "rl3nYZ9BnfpE",
      "execution_count": null,
      "outputs": [
        {
          "output_type": "stream",
          "name": "stdout",
          "text": [
            "Logistic Regression:\n",
            "  Training Accuracy After Best Parameters: 0.8108108108108109\n",
            "  Testing Accuracy After Best Parameters: 0.841726618705036\n",
            "\n"
          ]
        }
      ]
    },
    {
      "cell_type": "code",
      "source": [
        "from sklearn.metrics import classification_report\n",
        "\n",
        "# Classification Report\n",
        "print(\"Logistic Regression after tuning Classification Report:\")\n",
        "print(classification_report(y_test, y_pred_lr_2))"
      ],
      "metadata": {
        "colab": {
          "base_uri": "https://localhost:8080/"
        },
        "id": "bD4Vgb0S_Fff",
        "outputId": "fc40bc8d-8af2-4e65-d0cd-bd023ee98760"
      },
      "id": "bD4Vgb0S_Fff",
      "execution_count": null,
      "outputs": [
        {
          "output_type": "stream",
          "name": "stdout",
          "text": [
            "Logistic Regression after tuning Classification Report:\n",
            "              precision    recall  f1-score   support\n",
            "\n",
            "           0       0.86      0.85      0.85       149\n",
            "           1       0.82      0.84      0.83       129\n",
            "\n",
            "    accuracy                           0.84       278\n",
            "   macro avg       0.84      0.84      0.84       278\n",
            "weighted avg       0.84      0.84      0.84       278\n",
            "\n"
          ]
        }
      ]
    },
    {
      "cell_type": "markdown",
      "source": [
        "Logistic Regression after tuning does not suffer from overfitting or underfitting since the test accuracy is more than 80% and the gap is -0.03 wich less than 0.05"
      ],
      "metadata": {
        "id": "3K-9whsvlwQM"
      },
      "id": "3K-9whsvlwQM"
    },
    {
      "cell_type": "markdown",
      "source": [
        "Tuning did not improve the Logistic Regression model, it still has the same accuarcies from before tuning"
      ],
      "metadata": {
        "id": "nmgJLcJgl_wl"
      },
      "id": "nmgJLcJgl_wl"
    },
    {
      "cell_type": "markdown",
      "source": [
        "## Random Forest Tuning"
      ],
      "metadata": {
        "id": "_AOvTlVNVCWU"
      },
      "id": "_AOvTlVNVCWU"
    },
    {
      "cell_type": "code",
      "source": [
        "param_grid_rf = {\n",
        "    'n_estimators': [50, 100, 200],\n",
        "    'max_depth': [None, 10, 20],\n",
        "    'min_samples_split': [2, 5, 10]\n",
        "\n",
        "\n",
        "}\n",
        "grid_rf = GridSearchCV(RandomForestClassifier(), param_grid_rf, cv=5, scoring='accuracy')\n",
        "grid_rf.fit(X_train, y_train)\n",
        "\n",
        "print(\"Best Params for Random Forest:\", grid_rf.best_params_)\n",
        "print(\"Best Accuracy:\", grid_rf.best_score_)\n"
      ],
      "metadata": {
        "colab": {
          "base_uri": "https://localhost:8080/"
        },
        "id": "g2D0utwtUdlS",
        "outputId": "454ae4f2-522d-446f-eae1-1f29a9f02894"
      },
      "id": "g2D0utwtUdlS",
      "execution_count": null,
      "outputs": [
        {
          "output_type": "stream",
          "name": "stdout",
          "text": [
            "Best Params for Random Forest: {'max_depth': 20, 'min_samples_split': 10, 'n_estimators': 200}\n",
            "Best Accuracy: 0.9252252252252253\n"
          ]
        }
      ]
    },
    {
      "cell_type": "code",
      "source": [
        "# Random Forest (Tuned)\n",
        "RF_best = grid_rf.best_estimator_\n",
        "RF_best.fit(X_train, y_train)\n",
        "y_pred_rf_2 = RF_best.predict(X_test)\n",
        "print(\"Random Forest:\")\n",
        "print(\"  Training Accuracy After Best Parameters:\", RF_best.score(X_train, y_train))\n",
        "print(\"  Testing Accuracy After Best Parameters:\", RF_best.score(X_test, y_test))\n",
        "print()"
      ],
      "metadata": {
        "colab": {
          "base_uri": "https://localhost:8080/"
        },
        "id": "lBijjhm2nsYX",
        "outputId": "87bb2613-c24f-4c0e-b638-9ec2742184a6"
      },
      "id": "lBijjhm2nsYX",
      "execution_count": null,
      "outputs": [
        {
          "output_type": "stream",
          "name": "stdout",
          "text": [
            "Random Forest:\n",
            "  Training Accuracy After Best Parameters: 0.9540540540540541\n",
            "  Testing Accuracy After Best Parameters: 0.9172661870503597\n",
            "\n"
          ]
        }
      ]
    },
    {
      "cell_type": "code",
      "source": [
        "from sklearn.metrics import classification_report\n",
        "\n",
        "# Classification Report\n",
        "print(\"Random Forest after tuning Classification Report:\")\n",
        "print(classification_report(y_test, y_pred_rf_2))"
      ],
      "metadata": {
        "colab": {
          "base_uri": "https://localhost:8080/"
        },
        "id": "MPyDVxk--qV6",
        "outputId": "a955344f-15d8-4872-bdba-569e8cb01965"
      },
      "id": "MPyDVxk--qV6",
      "execution_count": null,
      "outputs": [
        {
          "output_type": "stream",
          "name": "stdout",
          "text": [
            "Classification Report:\n",
            "              precision    recall  f1-score   support\n",
            "\n",
            "           0       0.91      0.94      0.92       149\n",
            "           1       0.93      0.89      0.91       129\n",
            "\n",
            "    accuracy                           0.92       278\n",
            "   macro avg       0.92      0.92      0.92       278\n",
            "weighted avg       0.92      0.92      0.92       278\n",
            "\n"
          ]
        }
      ]
    },
    {
      "cell_type": "markdown",
      "source": [
        "Random Forest after tuning does not suffer from overfitting or underfitting since the test accuracy is more than 80% and the gap is 0.036 wich less than 0.05\n",
        "\n",
        "Tuning did improve the Random Fores model by reducing the gap, so now the Random Fores model does not suffer from overfitting"
      ],
      "metadata": {
        "id": "R_uGHvyZmpdj"
      },
      "id": "R_uGHvyZmpdj"
    },
    {
      "cell_type": "markdown",
      "source": [],
      "metadata": {
        "id": "4C3ERJbcmdxZ"
      },
      "id": "4C3ERJbcmdxZ"
    },
    {
      "cell_type": "markdown",
      "source": [
        "## SVM Tuning"
      ],
      "metadata": {
        "id": "xBJ6H9aLVGgz"
      },
      "id": "xBJ6H9aLVGgz"
    },
    {
      "cell_type": "code",
      "source": [
        "param_grid_svm = {\n",
        "    'C': [0.1, 1, 10],\n",
        "    'kernel': ['linear', 'rbf']\n",
        "}\n",
        "grid_svm = GridSearchCV(SVC(), param_grid_svm, cv=5, scoring='accuracy')\n",
        "grid_svm.fit(X_train, y_train)\n",
        "\n",
        "print(\"Best Params for SVM:\", grid_svm.best_params_)\n",
        "print(\"Best Accuracy:\", grid_svm.best_score_)\n"
      ],
      "metadata": {
        "colab": {
          "base_uri": "https://localhost:8080/"
        },
        "id": "FonxmO3TUdnd",
        "outputId": "dee08016-47a4-4cd8-9662-229da321a188"
      },
      "id": "FonxmO3TUdnd",
      "execution_count": null,
      "outputs": [
        {
          "output_type": "stream",
          "name": "stdout",
          "text": [
            "Best Params for SVM: {'C': 1, 'kernel': 'rbf'}\n",
            "Best Accuracy: 0.8495495495495495\n"
          ]
        }
      ]
    },
    {
      "cell_type": "code",
      "source": [
        "# SVM (Tuned)\n",
        "SVM_best = grid_svm.best_estimator_\n",
        "SVM_best.fit(X_train, y_train)\n",
        "y_pred_svm2 = SVM_best.predict(X_test)\n",
        "print(\"SVM:\")\n",
        "print(\"  Training Accuracy After Best Parameters:\", SVM_best.score(X_train, y_train))\n",
        "print(\"  Testing Accuracy After Best Parameters:\", SVM_best.score(X_test, y_test))\n",
        "print()"
      ],
      "metadata": {
        "colab": {
          "base_uri": "https://localhost:8080/"
        },
        "id": "RW1-VHlNnx8F",
        "outputId": "7f5cc102-3e85-40b7-e94e-0987435af809"
      },
      "id": "RW1-VHlNnx8F",
      "execution_count": null,
      "outputs": [
        {
          "output_type": "stream",
          "name": "stdout",
          "text": [
            "SVM:\n",
            "  Training Accuracy After Best Parameters: 0.8954954954954955\n",
            "  Testing Accuracy After Best Parameters: 0.8633093525179856\n",
            "\n"
          ]
        }
      ]
    },
    {
      "cell_type": "code",
      "source": [
        "from sklearn.metrics import classification_report\n",
        "\n",
        "# Classification Report\n",
        "print(\"SVM after tuning Classification Report:\")\n",
        "print(classification_report(y_test, y_pred_svm2))"
      ],
      "metadata": {
        "colab": {
          "base_uri": "https://localhost:8080/"
        },
        "id": "wqYK-fTt-1Gi",
        "outputId": "abeb8140-cf48-447b-eaf3-f13516f0485c"
      },
      "id": "wqYK-fTt-1Gi",
      "execution_count": null,
      "outputs": [
        {
          "output_type": "stream",
          "name": "stdout",
          "text": [
            "SVM after tuning Classification Report:\n",
            "              precision    recall  f1-score   support\n",
            "\n",
            "           0       0.86      0.89      0.87       149\n",
            "           1       0.86      0.84      0.85       129\n",
            "\n",
            "    accuracy                           0.86       278\n",
            "   macro avg       0.86      0.86      0.86       278\n",
            "weighted avg       0.86      0.86      0.86       278\n",
            "\n"
          ]
        }
      ]
    },
    {
      "cell_type": "markdown",
      "source": [
        "SVM after tuning does not suffer from overfitting or underfitting since the test accuracy is more than 80% and the gap is 0.032 wich is less than 0.05\n",
        "\n",
        "Tuning did not improve the SVM model, it still has the same accuarcies from before tuning"
      ],
      "metadata": {
        "id": "gtSWtgL7nCqn"
      },
      "id": "gtSWtgL7nCqn"
    },
    {
      "cell_type": "markdown",
      "source": [
        "## confusion_matrix"
      ],
      "metadata": {
        "id": "5QHO4dwbbrb8"
      },
      "id": "5QHO4dwbbrb8"
    },
    {
      "cell_type": "code",
      "source": [
        "from sklearn.metrics import confusion_matrix, ConfusionMatrixDisplay\n",
        "import matplotlib.pyplot as plt\n",
        "\n",
        "# Generate confusion matrix\n",
        "cm = confusion_matrix(y_test, y_pred_xgb2)\n",
        "\n",
        "# Plot confusion matrix\n",
        "disp = ConfusionMatrixDisplay(confusion_matrix=cm, display_labels=[0, 1])\n",
        "disp.plot(cmap='Blues')\n",
        "plt.title(\"Confusion Matrix for Tuned XGBoost\")\n",
        "plt.show()"
      ],
      "metadata": {
        "colab": {
          "base_uri": "https://localhost:8080/",
          "height": 472
        },
        "id": "TY2dq8ynpuyP",
        "outputId": "e09a8e50-c485-40f1-fb8b-3447d5c482f8"
      },
      "id": "TY2dq8ynpuyP",
      "execution_count": null,
      "outputs": [
        {
          "output_type": "display_data",
          "data": {
            "text/plain": [
              "<Figure size 640x480 with 2 Axes>"
            ],
            "image/png": "[encoded data removed]"
          },
          "metadata": {}
        }
      ]
    },
    {
      "cell_type": "markdown",
      "source": [
        "### Confusion Matrix Explanation for Proposed Model (XGBoost)\n",
        "**True Positives (TP) = 117**\n",
        "The actual class was \"Purchase\", and the model correctly predicted \"Purchase\".\n",
        "\n",
        "**True Negatives (TN) = 140**\n",
        "The actual class was \"No Purchase\", and the model correctly predicted \"No Purchase\".\n",
        "\n",
        "**False Positives (FP) = 9**\n",
        "The actual class was \"No Purchase\", but the model incorrectly predicted \"Purchase\".\n",
        "\n",
        "**False Negatives (FN) = 12**\n",
        "The actual class was \"Purchase\", but the model incorrectly predicted \"No Purchase\"."
      ],
      "metadata": {
        "id": "wqMxumvysrIt"
      },
      "id": "wqMxumvysrIt"
    },
    {
      "cell_type": "markdown",
      "source": [
        "# Conclusion\n",
        "\n",
        "This project investigated customer purchase behaviour prediction using machine learning. We evaluated Logistic Regression, Random Forest, SVM, and XGBoost. Our methodology involved data preprocessing, including Exploratory Data Analysis (EDA) to understand the data, dropping duplicated rows to ensure data quality, one-hot encoding of categorical features, and scaling numerical features. Following this, we performed hyperparameter tuning using GridSearchCV to optimize each model's performance and mitigate overfitting. After tuning, XGBoost emerged as the top performer and is therefore our proposed model for this project, achieving a training accuracy of 95.1% and a testing accuracy of 92.4%. The tuned XGBoost model demonstrated a minimal difference between training and testing accuracy, indicating good generalization capability. Loyalty program, discounts availed, and website time were identified as key predictors. Future work could involve expanding the dataset with additional behavioural or transactional features to boost model performance and implementing real-time prediction pipelines and tracking model drift over time to help maintain accuracy in dynamic business environments. This project demonstrates the value of machine learning for understanding and predicting customer behaviour, enabling businesses to optimize marketing and sales strategies."
      ],
      "metadata": {
        "id": "C-nQQBPxrFJJ"
      },
      "id": "C-nQQBPxrFJJ"
    }
  ],
  "metadata": {
    "kernelspec": {
      "display_name": "Python 3 (ipykernel)",
      "language": "python",
      "name": "python3"
    },
    "language_info": {
      "codemirror_mode": {
        "name": "ipython",
        "version": 3
      },
      "file_extension": ".py",
      "mimetype": "text/x-python",
      "name": "python",
      "nbconvert_exporter": "python",
      "pygments_lexer": "ipython3",
      "version": "3.9.21"
    },
    "colab": {
      "provenance": [],
      "include_colab_link": true
    }
  },
  "nbformat": 4,
  "nbformat_minor": 5
}